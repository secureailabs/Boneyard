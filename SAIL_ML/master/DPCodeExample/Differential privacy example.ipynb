{
 "cells": [
  {
   "cell_type": "markdown",
   "metadata": {},
   "source": [
    "# Just a quick example of dp_stats library and its application: PCA "
   ]
  },
  {
   "cell_type": "code",
   "execution_count": 1,
   "metadata": {},
   "outputs": [],
   "source": [
    "import numpy as np\n",
    "import dp_stats as dps "
   ]
  },
  {
   "cell_type": "code",
   "execution_count": 2,
   "metadata": {},
   "outputs": [
    {
     "name": "stdout",
     "output_type": "stream",
     "text": [
      "[0.3272933]\n",
      "[0.17886626]\n",
      "39.836721535388534\n",
      "37.183959265752996\n"
     ]
    }
   ],
   "source": [
    "import numpy as np\n",
    "import dp_stats as dps\n",
    "\n",
    "### example of mean and variance\n",
    "x = np.random.rand(10)\n",
    "x_mu = dps.dp_mean( x, 1.0, 0.1 )\n",
    "x_vr = dps.dp_var( x, 1.0, 0.1 )\n",
    "print(x_mu)\n",
    "print(x_vr)\n",
    "\n",
    "### example of DP-PCA\n",
    "d = 10    # data dimension\n",
    "n = 100   # number of samples\n",
    "k = 5     # true rank\n",
    "\n",
    "### create covariance matrix\n",
    "A = np.zeros((d,d))\n",
    "for i in range(d):\n",
    "    if i < k:\n",
    "        A[i,i] = d - i\n",
    "    else:\n",
    "        A[i, i] = 1\n",
    "mean = 0.0 * np.ones(d) # true mean of the samples\n",
    "\n",
    "### generate n samples\n",
    "samps = np.random.multivariate_normal(mean, A, n)    # [nxd]\n",
    "sigma = np.dot(samps.T, samps) # sample covariance matrix\n",
    "\n",
    "U,S,V = np.linalg.svd(sigma, full_matrices=True)\n",
    "U_reduce = U[:,:k]\n",
    "quality = np.trace(np.dot(np.dot(U_reduce.T,A),U_reduce))\n",
    "print(quality)\n",
    "\n",
    "sigma_dp = dps.dp_pca_sn(samps.T, epsilon = 0.1)\n",
    "U_dp, S_dp, V_dp = np.linalg.svd(sigma_dp, full_matrices=True)\n",
    "U_dp_reduce = U_dp[:,:k]\n",
    "quality_dp = np.trace(np.dot(np.dot(U_dp_reduce.T,A),U_dp_reduce))\n",
    "print(quality_dp)\n"
   ]
  }
 ],
 "metadata": {
  "kernelspec": {
   "display_name": "Python 3",
   "language": "python",
   "name": "python3"
  },
  "language_info": {
   "codemirror_mode": {
    "name": "ipython",
    "version": 3
   },
   "file_extension": ".py",
   "mimetype": "text/x-python",
   "name": "python",
   "nbconvert_exporter": "python",
   "pygments_lexer": "ipython3",
   "version": "3.7.3"
  }
 },
 "nbformat": 4,
 "nbformat_minor": 2
}
