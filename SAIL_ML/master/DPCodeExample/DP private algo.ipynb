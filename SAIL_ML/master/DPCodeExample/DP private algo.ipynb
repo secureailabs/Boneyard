{
 "cells": [
  {
   "cell_type": "code",
   "execution_count": 15,
   "metadata": {},
   "outputs": [],
   "source": [
    "import os\n",
    "import numpy as np\n",
    "import pandas as pd\n",
    "import matplotlib.pyplot as plt\n",
    "import tensorflow as ts"
   ]
  },
  {
   "cell_type": "code",
   "execution_count": 16,
   "metadata": {},
   "outputs": [],
   "source": [
    "os.chdir(\"/Users/MauriceLubetzki/Documents/Etats-Unis/SAIL/HaoDeng/13063_2006_152_MOESM1_ESM\")"
   ]
  },
  {
   "cell_type": "code",
   "execution_count": 17,
   "metadata": {},
   "outputs": [
    {
     "data": {
      "text/html": [
       "<div>\n",
       "<style scoped>\n",
       "    .dataframe tbody tr th:only-of-type {\n",
       "        vertical-align: middle;\n",
       "    }\n",
       "\n",
       "    .dataframe tbody tr th {\n",
       "        vertical-align: top;\n",
       "    }\n",
       "\n",
       "    .dataframe thead th {\n",
       "        text-align: right;\n",
       "    }\n",
       "</style>\n",
       "<table border=\"1\" class=\"dataframe\">\n",
       "  <thead>\n",
       "    <tr style=\"text-align: right;\">\n",
       "      <th></th>\n",
       "      <th>id</th>\n",
       "      <th>age</th>\n",
       "      <th>sex</th>\n",
       "      <th>migraine</th>\n",
       "      <th>chronicity</th>\n",
       "      <th>acupuncturist</th>\n",
       "      <th>date_randomized</th>\n",
       "      <th>practice_id</th>\n",
       "      <th>group</th>\n",
       "      <th>pk1</th>\n",
       "      <th>...</th>\n",
       "      <th>p5cacu</th>\n",
       "      <th>p5all</th>\n",
       "      <th>p5dos</th>\n",
       "      <th>totalacu</th>\n",
       "      <th>totalother</th>\n",
       "      <th>totalgp</th>\n",
       "      <th>totalspec</th>\n",
       "      <th>totaldos</th>\n",
       "      <th>exposure</th>\n",
       "      <th>exposuredos</th>\n",
       "    </tr>\n",
       "  </thead>\n",
       "  <tbody>\n",
       "    <tr>\n",
       "      <th>0</th>\n",
       "      <td>100</td>\n",
       "      <td>47</td>\n",
       "      <td>1</td>\n",
       "      <td>1</td>\n",
       "      <td>35</td>\n",
       "      <td>12</td>\n",
       "      <td>24/03/2000</td>\n",
       "      <td>35</td>\n",
       "      <td>1</td>\n",
       "      <td>10.75</td>\n",
       "      <td>...</td>\n",
       "      <td>NaN</td>\n",
       "      <td>NaN</td>\n",
       "      <td>NaN</td>\n",
       "      <td>NaN</td>\n",
       "      <td>NaN</td>\n",
       "      <td>NaN</td>\n",
       "      <td>NaN</td>\n",
       "      <td>NaN</td>\n",
       "      <td>NaN</td>\n",
       "      <td>NaN</td>\n",
       "    </tr>\n",
       "    <tr>\n",
       "      <th>1</th>\n",
       "      <td>101</td>\n",
       "      <td>52</td>\n",
       "      <td>1</td>\n",
       "      <td>1</td>\n",
       "      <td>8</td>\n",
       "      <td>12</td>\n",
       "      <td>24/03/2000</td>\n",
       "      <td>35</td>\n",
       "      <td>0</td>\n",
       "      <td>9.50</td>\n",
       "      <td>...</td>\n",
       "      <td>NaN</td>\n",
       "      <td>NaN</td>\n",
       "      <td>NaN</td>\n",
       "      <td>0.0</td>\n",
       "      <td>2.0</td>\n",
       "      <td>4.0</td>\n",
       "      <td>0.0</td>\n",
       "      <td>6.0</td>\n",
       "      <td>3.0</td>\n",
       "      <td>3.0</td>\n",
       "    </tr>\n",
       "    <tr>\n",
       "      <th>2</th>\n",
       "      <td>104</td>\n",
       "      <td>32</td>\n",
       "      <td>1</td>\n",
       "      <td>1</td>\n",
       "      <td>14</td>\n",
       "      <td>12</td>\n",
       "      <td>13/04/2000</td>\n",
       "      <td>35</td>\n",
       "      <td>0</td>\n",
       "      <td>16.00</td>\n",
       "      <td>...</td>\n",
       "      <td>0.0</td>\n",
       "      <td>0.0</td>\n",
       "      <td>3.0</td>\n",
       "      <td>0.0</td>\n",
       "      <td>0.0</td>\n",
       "      <td>0.0</td>\n",
       "      <td>0.0</td>\n",
       "      <td>3.0</td>\n",
       "      <td>3.0</td>\n",
       "      <td>3.0</td>\n",
       "    </tr>\n",
       "    <tr>\n",
       "      <th>3</th>\n",
       "      <td>105</td>\n",
       "      <td>53</td>\n",
       "      <td>1</td>\n",
       "      <td>1</td>\n",
       "      <td>10</td>\n",
       "      <td>9</td>\n",
       "      <td>5/4/00</td>\n",
       "      <td>25</td>\n",
       "      <td>0</td>\n",
       "      <td>32.50</td>\n",
       "      <td>...</td>\n",
       "      <td>NaN</td>\n",
       "      <td>NaN</td>\n",
       "      <td>NaN</td>\n",
       "      <td>0.0</td>\n",
       "      <td>2.0</td>\n",
       "      <td>0.0</td>\n",
       "      <td>0.0</td>\n",
       "      <td>NaN</td>\n",
       "      <td>3.0</td>\n",
       "      <td>NaN</td>\n",
       "    </tr>\n",
       "    <tr>\n",
       "      <th>4</th>\n",
       "      <td>108</td>\n",
       "      <td>56</td>\n",
       "      <td>1</td>\n",
       "      <td>1</td>\n",
       "      <td>40</td>\n",
       "      <td>9</td>\n",
       "      <td>24/03/2000</td>\n",
       "      <td>25</td>\n",
       "      <td>0</td>\n",
       "      <td>16.50</td>\n",
       "      <td>...</td>\n",
       "      <td>0.0</td>\n",
       "      <td>0.0</td>\n",
       "      <td>4.0</td>\n",
       "      <td>0.0</td>\n",
       "      <td>0.0</td>\n",
       "      <td>0.0</td>\n",
       "      <td>0.0</td>\n",
       "      <td>23.0</td>\n",
       "      <td>12.0</td>\n",
       "      <td>12.0</td>\n",
       "    </tr>\n",
       "  </tbody>\n",
       "</table>\n",
       "<p>5 rows × 94 columns</p>\n",
       "</div>"
      ],
      "text/plain": [
       "    id  age  sex  migraine  chronicity  acupuncturist date_randomized  \\\n",
       "0  100   47    1         1          35             12      24/03/2000   \n",
       "1  101   52    1         1           8             12      24/03/2000   \n",
       "2  104   32    1         1          14             12      13/04/2000   \n",
       "3  105   53    1         1          10              9          5/4/00   \n",
       "4  108   56    1         1          40              9      24/03/2000   \n",
       "\n",
       "   practice_id  group    pk1  ...  p5cacu  p5all  p5dos  totalacu  totalother  \\\n",
       "0           35      1  10.75  ...     NaN    NaN    NaN       NaN         NaN   \n",
       "1           35      0   9.50  ...     NaN    NaN    NaN       0.0         2.0   \n",
       "2           35      0  16.00  ...     0.0    0.0    3.0       0.0         0.0   \n",
       "3           25      0  32.50  ...     NaN    NaN    NaN       0.0         2.0   \n",
       "4           25      0  16.50  ...     0.0    0.0    4.0       0.0         0.0   \n",
       "\n",
       "   totalgp  totalspec  totaldos  exposure  exposuredos  \n",
       "0      NaN        NaN       NaN       NaN          NaN  \n",
       "1      4.0        0.0       6.0       3.0          3.0  \n",
       "2      0.0        0.0       3.0       3.0          3.0  \n",
       "3      0.0        0.0       NaN       3.0          NaN  \n",
       "4      0.0        0.0      23.0      12.0         12.0  \n",
       "\n",
       "[5 rows x 94 columns]"
      ]
     },
     "execution_count": 17,
     "metadata": {},
     "output_type": "execute_result"
    }
   ],
   "source": [
    "df = pd.read_csv(\"Data-Table.csv\")\n",
    "df.head()"
   ]
  },
  {
   "cell_type": "code",
   "execution_count": 18,
   "metadata": {},
   "outputs": [],
   "source": [
    "def Sub_gradient(xi, yi,C,w,b): \n",
    "    if float(1- yi*(np.dot(xi.T, w)+b)) >0:\n",
    "        comp_w =  w + C *(-yi * xi)\n",
    "        comp_b =  C * (-yi)\n",
    "    else:\n",
    "        comp_w = w  \n",
    "        comp_b = 0  \n",
    "    return [comp_w,comp_b] "
   ]
  },
  {
   "cell_type": "code",
   "execution_count": 19,
   "metadata": {},
   "outputs": [],
   "source": [
    "def data_loader():\n",
    "    Data=pd.read_csv(\"Data-Table.csv\")\n",
    "    Data =np.asarray(Data)\n",
    "    Y=Data[:,3]\n",
    "    X=Data[:,9:20]\n",
    "    X =np.asarray(X,dtype=np.float64)\n",
    "    X =np.nan_to_num(X)#Nan to Zeros\n",
    "\n",
    "    X_Train=X[0:int(0.7*X.shape[0]),:]\n",
    "    Y_Train = Y[0:int(0.7 * Y.shape[0])]\n",
    "\n",
    "    X_Test = X[int(0.7 * X.shape[0]):X.shape[0], :]\n",
    "    Y_Test = Y[int(0.7 * Y.shape[0]):X.shape[0]]\n",
    "\n",
    "    return(X_Train,Y_Train,X_Test,Y_Test)"
   ]
  },
  {
   "cell_type": "code",
   "execution_count": 20,
   "metadata": {},
   "outputs": [],
   "source": [
    "def get_DP_SVM(x_train,y_train,epsilon,C,L,coef_init=None,intercept_init=None,epochs = 100,learning_rate = 0.01, delta = 10**-3):\n",
    "  # Initialize weights, epochs, learning rate\n",
    "    if coef_init is None:\n",
    "        w = np.random.uniform(size=(x_train.shape[1],))\n",
    "        b= np.random.uniform(size=(1,))\n",
    "    else:\n",
    "        w=coef_init\n",
    "        b=intercept_init\n",
    "\n",
    "    epochs = epochs \n",
    "\n",
    "    y_train=np.asarray(y_train)\n",
    "    y_train[y_train==0]=-1#SVM do 0 and 1\n",
    "    y_train[y_train> 1]=-1\n",
    "    #DP gradient descent \n",
    "    \n",
    "    for epoch in range(0, epochs):\n",
    "        randomize = np.arange(len(x_train))\n",
    "        np.random.shuffle(randomize)\n",
    "        randomize = randomize[0:L]\n",
    "        x = x_train[randomize]\n",
    "        y = y_train[randomize]\n",
    "        Grad = [[],[]]\n",
    "        Noise_w = np.random.normal(0,np.sqrt((2*np.log(1.25/delta)/epsilon**2)),11)\n",
    "        Noise_b = np.random.normal(0,np.sqrt((2*np.log(1.25/delta)/epsilon**2)),1)\n",
    "        \n",
    "        for xi, yi in zip(x, y):\n",
    "            Grad[0].append([Sub_gradient(xi, yi,C,w,b)[0]])\n",
    "            Grad[1].append([Sub_gradient(xi, yi,C,w,b)[1]])\n",
    "           \n",
    "        Grad_w = (np.sum(Grad[0],axis = 0 ) + Noise_w)/len(x)\n",
    "        Grad_b = (np.sum(Grad[1],axis = 0 ) + Noise_b)/len(x)\n",
    "        \n",
    "        w = w - (learning_rate)*Grad_w\n",
    "        w = w[0]\n",
    "        b = b - (learning_rate)*Grad_b \n",
    "        b = b[0]\n",
    "        \n",
    "        \n",
    "    return w,b"
   ]
  },
  {
   "cell_type": "code",
   "execution_count": 21,
   "metadata": {},
   "outputs": [],
   "source": [
    "def get_SVM(x_train,y_train,C,coef_init=None,intercept_init=None,epochs = 100,learning_rate = 0.01):\n",
    "  # Initialize weights, epochs, learning rate\n",
    "    if coef_init is None:\n",
    "        w = np.random.uniform(size=(x_train.shape[1],))\n",
    "        b= np.random.uniform(size=(1,))\n",
    "    else:\n",
    "        w=coef_init\n",
    "        b=intercept_init\n",
    "\n",
    "    epochs = epochs \n",
    "\n",
    "    y_train=np.asarray(y_train)\n",
    "    y_train[y_train==0]=-1#SVM do 0 and 1\n",
    "    y_train[y_train> 1]=-1 # Maybe some two in the migrain data set, unsure data 2 \n",
    "\n",
    "    # Stochastic Gradient Descent with hinge loss\n",
    "    for epoch in range(0, epochs):\n",
    "        randomize = np.arange(len(x_train))\n",
    "        np.random.shuffle(randomize)\n",
    "        x = x_train[randomize]\n",
    "        y = y_train[randomize]\n",
    "        loss = 0\n",
    "        for xi, yi in zip(x, y):\n",
    "            loss += max(0, 1 - yi * (np.dot(xi, w)+b))\n",
    "        if (1-yi * (np.dot(xi, w)+b) >0 ): #or loss function > 0 \n",
    "            # grad+=-yi*xi\n",
    "            w =  (1-learning_rate)* w - learning_rate * C *(-yi * xi)\n",
    "            b =  b - learning_rate * C * (-yi)\n",
    "        else:\n",
    "            # grad+=0\n",
    "            w = (1-learning_rate)*w  \n",
    "            b =  b  \n",
    "    \n",
    "    return w,b,loss"
   ]
  },
  {
   "cell_type": "code",
   "execution_count": 22,
   "metadata": {},
   "outputs": [],
   "source": [
    "def F1_score(Predict,Y_Test):\n",
    "    P = np.sum(Predict[Y_Test==1] == Y_Test[Y_Test==1]) / (np.sum(Predict[Y_Test==1] == Y_Test[Y_Test==1]) +\\\n",
    "                                                     np.sum(Predict[Y_Test == 0])) # False positive\n",
    "    R = np.sum(Predict[Y_Test==1] == Y_Test[Y_Test==1]) / (np.sum(Predict[Y_Test==1] == Y_Test[Y_Test==1]) +\\\n",
    "                                                     np.sum(Y_Test[Predict==0])) # False negative\n",
    "    \n",
    "    return((2*P*R)/(P+R))"
   ]
  },
  {
   "cell_type": "code",
   "execution_count": 23,
   "metadata": {},
   "outputs": [
    {
     "name": "stdout",
     "output_type": "stream",
     "text": [
      "F1 score 0.9789029535864979 No Differential Privacy\n",
      "F1 score 0.9789029535864979 With Differential Privacy\n"
     ]
    }
   ],
   "source": [
    "def SVMpredict(x,w,b):\n",
    "    Output=np.sign(np.dot(x, w)+b)\n",
    "    Output[Output==-1]=0#convert the predict from +1/-1 to 1/0\n",
    "    Output[Output == 1]=1\n",
    "    return(Output)\n",
    "\n",
    "if __name__ == \"__main__\":\n",
    "    X_Train, Y_Train, X_Test, Y_Test=data_loader()\n",
    "\n",
    "    w, b, loss=get_SVM(X_Train, Y_Train, C = 1)\n",
    "    \n",
    "    w_DP,b_DP= get_DP_SVM(X_Train, Y_Train,epsilon = 1,C = 1,L = 130)\n",
    "\n",
    "    Predict=SVMpredict(X_Test,w, b)\n",
    "    \n",
    "    Predict_DP = SVMpredict(X_Test,w_DP,b_DP)\n",
    "    \n",
    "    \n",
    "\n",
    "    print( \"F1 score \" + str(F1_score(Predict,Y_Test)) + \" No Differential Privacy\")\n",
    "    print(\"F1 score \" + str(F1_score(Predict_DP,Y_Test)) + \" With Differential Privacy\")"
   ]
  },
  {
   "cell_type": "code",
   "execution_count": 38,
   "metadata": {},
   "outputs": [],
   "source": [
    "B = np.linspace(1,0.01,100)\n",
    "L , L_DP = [] , []\n",
    "for i in range(len(B)):\n",
    "    \n",
    "    X_Train, Y_Train, X_Test, Y_Test=data_loader()\n",
    "    \n",
    "    w, b, loss = get_SVM(X_Train, Y_Train,C = 19)\n",
    "    w_DP ,b_DP = get_DP_SVM(X_Train, Y_Train,epsilon = B[i],C = 1, L= 25)\n",
    "    \n",
    "    Predict = SVMpredict(X_Test,w, b)\n",
    "    Predict_DP = SVMpredict(X_Test,w_DP,b_DP)\n",
    "    \n",
    "    L.append(F1_score(Predict,Y_Test))\n",
    "    L_DP.append(F1_score(Predict_DP,Y_Test))"
   ]
  },
  {
   "cell_type": "code",
   "execution_count": 39,
   "metadata": {},
   "outputs": [
    {
     "data": {
      "text/plain": [
       "Text(0, 0.5, '# of experiments')"
      ]
     },
     "execution_count": 39,
     "metadata": {},
     "output_type": "execute_result"
    },
    {
     "data": {
      "image/png": "[encoded data removed]",
      "text/plain": [
       "<Figure size 720x360 with 2 Axes>"
      ]
     },
     "metadata": {
      "needs_background": "light"
     },
     "output_type": "display_data"
    }
   ],
   "source": [
    "fig = plt.figure(figsize =(10,5))\n",
    "fig.add_subplot(1,2,1)\n",
    "plt.hist(L)\n",
    "plt.title(\"Distribution of SVM's F1_score without DP\")\n",
    "plt.xlabel('F1_score')\n",
    "plt.ylabel('# of experiments')\n",
    "fig.add_subplot(1,2,2)\n",
    "plt.hist(L_DP)\n",
    "plt.title(\"Distribution of SVM's F1_score with DP\")\n",
    "plt.xlabel('F1_score')\n",
    "plt.ylabel('# of experiments')"
   ]
  },
  {
   "cell_type": "code",
   "execution_count": 40,
   "metadata": {},
   "outputs": [
    {
     "data": {
      "text/plain": [
       "Text(0.5, 1.0, \"BoxPlot of SVM's F1_score with DP\")"
      ]
     },
     "execution_count": 40,
     "metadata": {},
     "output_type": "execute_result"
    },
    {
     "data": {
      "image/png": "[encoded data removed]",
      "text/plain": [
       "<Figure size 720x360 with 2 Axes>"
      ]
     },
     "metadata": {
      "needs_background": "light"
     },
     "output_type": "display_data"
    }
   ],
   "source": [
    "fig = plt.figure(figsize =(10,5))\n",
    "fig.add_subplot(1,2,1)\n",
    "plt.boxplot(L)\n",
    "plt.title(\"BoxPlot of SVM's F1_score without DP\")\n",
    "fig.add_subplot(1,2,2)\n",
    "plt.boxplot(L_DP)\n",
    "plt.title(\"BoxPlot of SVM's F1_score with DP\")"
   ]
  },
  {
   "cell_type": "code",
   "execution_count": 41,
   "metadata": {},
   "outputs": [
    {
     "data": {
      "text/plain": [
       "Text(0, 0.5, 'F1_score')"
      ]
     },
     "execution_count": 41,
     "metadata": {},
     "output_type": "execute_result"
    },
    {
     "data": {
      "image/png": "[encoded data removed]",
      "text/plain": [
       "<Figure size 432x288 with 1 Axes>"
      ]
     },
     "metadata": {
      "needs_background": "light"
     },
     "output_type": "display_data"
    }
   ],
   "source": [
    "plt.plot(B.dot(np.sqrt(100)),L_DP)\n",
    "plt.title('F1_score function of Privacy Budget')\n",
    "plt.xlabel('Big O of Privacy Budget')\n",
    "plt.ylabel('F1_score')"
   ]
  },
  {
   "cell_type": "markdown",
   "metadata": {},
   "source": [
    "Need to compute an optimal C, thus we use Cross Validation on SVM "
   ]
  },
  {
   "cell_type": "code",
   "execution_count": 42,
   "metadata": {},
   "outputs": [],
   "source": [
    "def data_loader_CV():\n",
    "    Data=pd.read_csv(\"Data-Table.csv\")\n",
    "    Data =np.asarray(Data)\n",
    "    Y=Data[:,3]\n",
    "    X=Data[:,9:20]\n",
    "    X =np.asarray(X,dtype=np.float64)\n",
    "    X =np.nan_to_num(X)#Nan to Zeros\n",
    "\n",
    "    X_Train_CV = X[0:int(0.7*0.7*X.shape[0]),:]\n",
    "    Y_Train_CV = Y[0:int(0.7*0.7* Y.shape[0])]\n",
    "    \n",
    "    X_Test_CV = X[int(0.7*0.7*X.shape[0]):int(0.7*X.shape[0]),:]\n",
    "    Y_Test_CV = Y[int(0.7*0.7*Y.shape[0]):int(0.7*Y.shape[0])]\n",
    "\n",
    "    return(X_Train_CV,Y_Train_CV,X_Test_CV,Y_Test_CV)"
   ]
  },
  {
   "cell_type": "code",
   "execution_count": 53,
   "metadata": {},
   "outputs": [],
   "source": [
    "def SVM_CV(C): \n",
    "    X_Train_CV,Y_Train_CV,X_Test_CV,Y_Test_CV = data_loader_CV()\n",
    "    L = []\n",
    "    for i in range (len(C)):\n",
    "        w, b, loss = get_SVM(X_Train_CV,Y_Train_CV,C[i])\n",
    "        Predict=SVMpredict(X_Test_CV,w, b)\n",
    "        L.append(1/len(Y_Test_CV)*sum([(Y_Test_CV[j]-Predict[j])**2 for j in range(0,len(Y_Test_CV))]))\n",
    "    plt.plot(np.arange(len(C)),L,color ='r')\n",
    "    print(\"optimal C is \" + str(C[L.index(min(L))]))\n",
    "    print(\"RSS is \" + str(min(L)) ) \n",
    "    \n",
    "def SVM_CV_DP(C,epsilon): \n",
    "    X_Train_CV,Y_Train_CV,X_Test_CV,Y_Test_CV = data_loader_CV()\n",
    "    L = []\n",
    "    for i in range (len(C)):\n",
    "        w, b = get_DP_SVM(X_Train_CV,Y_Train_CV,epsilon,C[i],L=130)\n",
    "        Predict=SVMpredict(X_Test_CV,w, b)\n",
    "        print(\"Predict \" + str(Predict))\n",
    "        print(\"Y_test \"+ str(Y_Test))\n",
    "        print(\"C\" + str(C[i]))\n",
    "        L.append(1/len(Y_Test_CV)*sum([(Y_Test_CV[j]-Predict[j])**2 for j in range(0,len(Y_Test_CV))]))\n",
    "        \n",
    "    return [C[L.index(min(L))], min(L)]\n",
    "    print(\"optimal C is \" + str(C[L.index(min(L))]))\n",
    "    print(\"RSS is \" + str(min(L)))"
   ]
  },
  {
   "cell_type": "code",
   "execution_count": 32,
   "metadata": {},
   "outputs": [
    {
     "name": "stdout",
     "output_type": "stream",
     "text": [
      "optimal C is 9.899\n",
      "RSS is 0.05952380952380952\n"
     ]
    },
    {
     "data": {
      "image/png": "[encoded data removed]",
      "text/plain": [
       "<Figure size 432x288 with 1 Axes>"
      ]
     },
     "metadata": {
      "needs_background": "light"
     },
     "output_type": "display_data"
    }
   ],
   "source": [
    "C = np.linspace(10,0.001,100)\n",
    "SVM_CV(C)"
   ]
  },
  {
   "cell_type": "code",
   "execution_count": 34,
   "metadata": {},
   "outputs": [
    {
     "name": "stdout",
     "output_type": "stream",
     "text": [
      "    Optimal C        RSS   epsilon\n",
      "0   100.000000  0.059524  1.000000\n",
      "1   100.000000  0.059524  0.947895\n",
      "2    62.355073  0.059524  0.895789\n",
      "3   100.000000  0.059524  0.843684\n",
      "4   100.000000  0.059524  0.791579\n",
      "5    78.965229  0.059524  0.739474\n",
      "6   100.000000  0.059524  0.687368\n",
      "7   100.000000  0.059524  0.635263\n",
      "8   100.000000  0.059524  0.583158\n",
      "9    78.965229  0.059524  0.531053\n",
      "10  100.000000  0.059524  0.478947\n",
      "11  100.000000  0.059524  0.426842\n",
      "12  100.000000  0.059524  0.374737\n",
      "13  100.000000  0.059524  0.322632\n",
      "14  100.000000  0.059524  0.270526\n",
      "15  100.000000  0.059524  0.218421\n",
      "16   78.965229  0.059524  0.166316\n",
      "17  100.000000  0.059524  0.114211\n",
      "18  100.000000  0.059524  0.062105\n",
      "19  100.000000  0.059524  0.010000\n"
     ]
    }
   ],
   "source": [
    "epsilon = np.linspace(1,0.01,20)\n",
    "C = 10**(np.linspace(2,-2,40))\n",
    "L = []\n",
    "M = []\n",
    "N = []\n",
    "for i in epsilon:\n",
    "    a = SVM_CV_DP(C,i)\n",
    "    L.append(a[0])\n",
    "    M.append(a[1])\n",
    "    N.append(i)\n",
    "    \n",
    "d = {\"Optimal C \" : L, \"RSS\": M, \"epsilon\": N }\n",
    "print(pd.DataFrame(data = d))"
   ]
  },
  {
   "cell_type": "code",
   "execution_count": null,
   "metadata": {},
   "outputs": [],
   "source": []
  },
  {
   "cell_type": "code",
   "execution_count": null,
   "metadata": {},
   "outputs": [],
   "source": []
  }
 ],
 "metadata": {
  "kernelspec": {
   "display_name": "Python 3",
   "language": "python",
   "name": "python3"
  },
  "language_info": {
   "codemirror_mode": {
    "name": "ipython",
    "version": 3
   },
   "file_extension": ".py",
   "mimetype": "text/x-python",
   "name": "python",
   "nbconvert_exporter": "python",
   "pygments_lexer": "ipython3",
   "version": "3.7.3"
  }
 },
 "nbformat": 4,
 "nbformat_minor": 2
}
