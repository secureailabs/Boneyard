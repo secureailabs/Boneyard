{
 "cells": [
  {
   "cell_type": "code",
   "execution_count": 22,
   "metadata": {},
   "outputs": [],
   "source": [
    "import os\n",
    "import numpy as np\n",
    "import pandas as pd\n",
    "import scipy.optimize\n",
    "import matplotlib.pyplot as plt\n",
    "import tensorflow as ts\n",
    "from sklearn.linear_model import LogisticRegression\n",
    "from sklearn.metrics import accuracy_score "
   ]
  },
  {
   "cell_type": "code",
   "execution_count": 23,
   "metadata": {},
   "outputs": [],
   "source": [
    "os.chdir(\"/Users/MauriceLubetzki/Documents/Etats-Unis/SAIL/HaoDeng/13063_2006_152_MOESM1_ESM\")"
   ]
  },
  {
   "cell_type": "code",
   "execution_count": 24,
   "metadata": {},
   "outputs": [],
   "source": [
    "df = pd.read_csv(\"Data-Table.csv\")"
   ]
  },
  {
   "cell_type": "code",
   "execution_count": 25,
   "metadata": {},
   "outputs": [
    {
     "data": {
      "text/html": [
       "<div>\n",
       "<style scoped>\n",
       "    .dataframe tbody tr th:only-of-type {\n",
       "        vertical-align: middle;\n",
       "    }\n",
       "\n",
       "    .dataframe tbody tr th {\n",
       "        vertical-align: top;\n",
       "    }\n",
       "\n",
       "    .dataframe thead th {\n",
       "        text-align: right;\n",
       "    }\n",
       "</style>\n",
       "<table border=\"1\" class=\"dataframe\">\n",
       "  <thead>\n",
       "    <tr style=\"text-align: right;\">\n",
       "      <th></th>\n",
       "      <th>id</th>\n",
       "      <th>age</th>\n",
       "      <th>sex</th>\n",
       "      <th>migraine</th>\n",
       "      <th>chronicity</th>\n",
       "      <th>acupuncturist</th>\n",
       "      <th>date_randomized</th>\n",
       "      <th>practice_id</th>\n",
       "      <th>group</th>\n",
       "      <th>pk1</th>\n",
       "      <th>...</th>\n",
       "      <th>p5cacu</th>\n",
       "      <th>p5all</th>\n",
       "      <th>p5dos</th>\n",
       "      <th>totalacu</th>\n",
       "      <th>totalother</th>\n",
       "      <th>totalgp</th>\n",
       "      <th>totalspec</th>\n",
       "      <th>totaldos</th>\n",
       "      <th>exposure</th>\n",
       "      <th>exposuredos</th>\n",
       "    </tr>\n",
       "  </thead>\n",
       "  <tbody>\n",
       "    <tr>\n",
       "      <th>0</th>\n",
       "      <td>100</td>\n",
       "      <td>47</td>\n",
       "      <td>1</td>\n",
       "      <td>1</td>\n",
       "      <td>35</td>\n",
       "      <td>12</td>\n",
       "      <td>24/03/2000</td>\n",
       "      <td>35</td>\n",
       "      <td>1</td>\n",
       "      <td>10.75</td>\n",
       "      <td>...</td>\n",
       "      <td>NaN</td>\n",
       "      <td>NaN</td>\n",
       "      <td>NaN</td>\n",
       "      <td>NaN</td>\n",
       "      <td>NaN</td>\n",
       "      <td>NaN</td>\n",
       "      <td>NaN</td>\n",
       "      <td>NaN</td>\n",
       "      <td>NaN</td>\n",
       "      <td>NaN</td>\n",
       "    </tr>\n",
       "    <tr>\n",
       "      <th>1</th>\n",
       "      <td>101</td>\n",
       "      <td>52</td>\n",
       "      <td>1</td>\n",
       "      <td>1</td>\n",
       "      <td>8</td>\n",
       "      <td>12</td>\n",
       "      <td>24/03/2000</td>\n",
       "      <td>35</td>\n",
       "      <td>0</td>\n",
       "      <td>9.50</td>\n",
       "      <td>...</td>\n",
       "      <td>NaN</td>\n",
       "      <td>NaN</td>\n",
       "      <td>NaN</td>\n",
       "      <td>0.0</td>\n",
       "      <td>2.0</td>\n",
       "      <td>4.0</td>\n",
       "      <td>0.0</td>\n",
       "      <td>6.0</td>\n",
       "      <td>3.0</td>\n",
       "      <td>3.0</td>\n",
       "    </tr>\n",
       "    <tr>\n",
       "      <th>2</th>\n",
       "      <td>104</td>\n",
       "      <td>32</td>\n",
       "      <td>1</td>\n",
       "      <td>1</td>\n",
       "      <td>14</td>\n",
       "      <td>12</td>\n",
       "      <td>13/04/2000</td>\n",
       "      <td>35</td>\n",
       "      <td>0</td>\n",
       "      <td>16.00</td>\n",
       "      <td>...</td>\n",
       "      <td>0.0</td>\n",
       "      <td>0.0</td>\n",
       "      <td>3.0</td>\n",
       "      <td>0.0</td>\n",
       "      <td>0.0</td>\n",
       "      <td>0.0</td>\n",
       "      <td>0.0</td>\n",
       "      <td>3.0</td>\n",
       "      <td>3.0</td>\n",
       "      <td>3.0</td>\n",
       "    </tr>\n",
       "    <tr>\n",
       "      <th>3</th>\n",
       "      <td>105</td>\n",
       "      <td>53</td>\n",
       "      <td>1</td>\n",
       "      <td>1</td>\n",
       "      <td>10</td>\n",
       "      <td>9</td>\n",
       "      <td>5/4/00</td>\n",
       "      <td>25</td>\n",
       "      <td>0</td>\n",
       "      <td>32.50</td>\n",
       "      <td>...</td>\n",
       "      <td>NaN</td>\n",
       "      <td>NaN</td>\n",
       "      <td>NaN</td>\n",
       "      <td>0.0</td>\n",
       "      <td>2.0</td>\n",
       "      <td>0.0</td>\n",
       "      <td>0.0</td>\n",
       "      <td>NaN</td>\n",
       "      <td>3.0</td>\n",
       "      <td>NaN</td>\n",
       "    </tr>\n",
       "    <tr>\n",
       "      <th>4</th>\n",
       "      <td>108</td>\n",
       "      <td>56</td>\n",
       "      <td>1</td>\n",
       "      <td>1</td>\n",
       "      <td>40</td>\n",
       "      <td>9</td>\n",
       "      <td>24/03/2000</td>\n",
       "      <td>25</td>\n",
       "      <td>0</td>\n",
       "      <td>16.50</td>\n",
       "      <td>...</td>\n",
       "      <td>0.0</td>\n",
       "      <td>0.0</td>\n",
       "      <td>4.0</td>\n",
       "      <td>0.0</td>\n",
       "      <td>0.0</td>\n",
       "      <td>0.0</td>\n",
       "      <td>0.0</td>\n",
       "      <td>23.0</td>\n",
       "      <td>12.0</td>\n",
       "      <td>12.0</td>\n",
       "    </tr>\n",
       "  </tbody>\n",
       "</table>\n",
       "<p>5 rows × 94 columns</p>\n",
       "</div>"
      ],
      "text/plain": [
       "    id  age  sex  migraine  chronicity  acupuncturist date_randomized  \\\n",
       "0  100   47    1         1          35             12      24/03/2000   \n",
       "1  101   52    1         1           8             12      24/03/2000   \n",
       "2  104   32    1         1          14             12      13/04/2000   \n",
       "3  105   53    1         1          10              9          5/4/00   \n",
       "4  108   56    1         1          40              9      24/03/2000   \n",
       "\n",
       "   practice_id  group    pk1  ...  p5cacu  p5all  p5dos  totalacu  totalother  \\\n",
       "0           35      1  10.75  ...     NaN    NaN    NaN       NaN         NaN   \n",
       "1           35      0   9.50  ...     NaN    NaN    NaN       0.0         2.0   \n",
       "2           35      0  16.00  ...     0.0    0.0    3.0       0.0         0.0   \n",
       "3           25      0  32.50  ...     NaN    NaN    NaN       0.0         2.0   \n",
       "4           25      0  16.50  ...     0.0    0.0    4.0       0.0         0.0   \n",
       "\n",
       "   totalgp  totalspec  totaldos  exposure  exposuredos  \n",
       "0      NaN        NaN       NaN       NaN          NaN  \n",
       "1      4.0        0.0       6.0       3.0          3.0  \n",
       "2      0.0        0.0       3.0       3.0          3.0  \n",
       "3      0.0        0.0       NaN       3.0          NaN  \n",
       "4      0.0        0.0      23.0      12.0         12.0  \n",
       "\n",
       "[5 rows x 94 columns]"
      ]
     },
     "execution_count": 25,
     "metadata": {},
     "output_type": "execute_result"
    }
   ],
   "source": [
    "df.head()"
   ]
  },
  {
   "cell_type": "code",
   "execution_count": 26,
   "metadata": {},
   "outputs": [],
   "source": [
    "def data_loader():\n",
    "    \n",
    "    Data =np.asarray(df)\n",
    "    Y=Data[:,3]\n",
    "    X=Data[:,9:20]\n",
    "    X =np.asarray(X,dtype=np.float64)\n",
    "    X =np.nan_to_num(X)#Nan to Zeros\n",
    "\n",
    "    X_Train=X[0:int(0.7*X.shape[0]),:]\n",
    "    Y_Train = Y[0:int(0.7 * Y.shape[0])]\n",
    "\n",
    "    X_Test = X[int(0.7 * X.shape[0]):X.shape[0], :]\n",
    "    Y_Test = Y[int(0.7 * Y.shape[0]):X.shape[0]]\n",
    "\n",
    "    return(X_Train,Y_Train,X_Test,Y_Test)"
   ]
  },
  {
   "cell_type": "code",
   "execution_count": 85,
   "metadata": {},
   "outputs": [
    {
     "data": {
      "text/plain": [
       "(11,)"
      ]
     },
     "execution_count": 85,
     "metadata": {},
     "output_type": "execute_result"
    }
   ],
   "source": [
    "X_Train, Y_Train, X_Test, Y_Test=data_loader()\n",
    "X_Train.shape\n",
    "theta = np.zeros(X_Train.shape[1])\n",
    "theta.shape"
   ]
  },
  {
   "cell_type": "code",
   "execution_count": 120,
   "metadata": {},
   "outputs": [],
   "source": [
    "class LogisticRegression:\n",
    "    \n",
    "    def __init__(self, lbd = 0, lr=0.01, num_iter=100000, fit_intercept=True):\n",
    "        self.lbd = lbd \n",
    "        self.lr = lr\n",
    "        self.num_iter = num_iter\n",
    "        self.fit_intercept = fit_intercept\n",
    "    \n",
    "    def __add_intercept(self, X): # add intercept \n",
    "        intercept = np.ones((X.shape[0], 1))\n",
    "        return np.concatenate((intercept, X), axis=1)\n",
    "    \n",
    "    def __sigmoid(self, z):\n",
    "        return 1 / (1 + np.exp(-z)+0.001)\n",
    "    \n",
    "    def __loss(self, h, y):\n",
    "        return (- y*np.log(h) - (1 - y)*(np.log(1 - h))).mean() +\\\n",
    "    self.lbd*0.5*np.asarray(self.theta).dot(np.asarray(self.theta.T)) \n",
    "        \n",
    "    \n",
    "    def __loss_DP2(self, h, y):\n",
    "        self.theta = np.asarray(self.theta)\n",
    "        return ( ((1 - y) * np.log(1 - h)) + \\\n",
    "    (self.b.T.dot(self.theta))/y.size \\\n",
    "    +self.lbd*self.tetha.dot(self.theta.T))\n",
    "    \n",
    "    def fit(self, X, y):\n",
    "        if self.fit_intercept: #we make a condition on the input of the class \n",
    "            X = self.__add_intercept(X)\n",
    "        # weights initialization\n",
    "        self.theta = np.zeros(X.shape[1])\n",
    "        \n",
    "        for i in range(self.num_iter):\n",
    "            z = np.array(np.dot(X, self.theta),dtype=np.float32)\n",
    "            h = self.__sigmoid(z)\n",
    "            gradient = np.dot(X.T, (h - y)) / y.size + (self.lbd*self.theta)/ y.size\n",
    "            self.theta = self.theta - self.lr * gradient\n",
    "    \n",
    "        \n",
    "    def fit_DP_Alg1(self,X, y,eps): \n",
    "        n = X.shape[0]\n",
    "        norm_etha = np.random.gamma(11, 2/(n*eps*self.lbd),1)\n",
    "        noise = np.random.laplace(0, 2/(n*eps*self.lbd*abs(norm_etha)),self.theta.shape)\n",
    "        \n",
    "        self.theta = self.theta + noise\n",
    "        \n",
    "\n",
    "    def fit_DP_Alg2(self, X, y,eps):\n",
    "        if self.fit_intercept:\n",
    "            X = self.__add_intercept(X)\n",
    "        \n",
    "        # weights initialization\n",
    "        self.theta = np.zeros(X.shape[1])\n",
    "        \n",
    "        n = X.shape[0]\n",
    "        norm_b = np.random.gamma(11, 2/(eps),1)\n",
    "        self.b = np.random.laplace(0, 2/(eps*abs(norm_b)),self.theta.shape)\n",
    "        \n",
    "        for i in range(self.num_iter):\n",
    "                                  \n",
    "            z = np.array(np.dot(X, self.theta),dtype = float)\n",
    "            h = self.__sigmoid(z)\n",
    "            gradient = np.dot(X.T, (h - y)) / y.size + (self.lbd*self.theta)/ y.size + self.b /y.size\n",
    "            self.theta = self.theta - self.lr * gradient    \n",
    "    \n",
    "    def predict_prob(self, X):\n",
    "        return self.__sigmoid(np.array(np.dot(X, self.theta[0:-1]),dtype = float) + np.array(self.theta[-1]))\n",
    "    \n",
    "    def predict(self, X, threshold):\n",
    "        Y = []\n",
    "        for i in X: \n",
    "            #print(self.predict_prob(i))\n",
    "            if self.predict_prob(i) >= threshold: \n",
    "                Y.append(1)\n",
    "            else: \n",
    "                Y.append(0)\n",
    "        return Y\n",
    "    \n",
    "    def loss(self,X_Train, Y_Train, X_Test, Y_Test):\n",
    "        \n",
    "        if self.fit_intercept:\n",
    "            X_Train = self.__add_intercept(X_Train)\n",
    "            X_Test = self.__add_intercept(X_Test)\n",
    "        \n",
    "        z_train = np.array(np.dot(X_Train, self.theta),dtype=np.float32)\n",
    "        h_train = self.__sigmoid(z_train)\n",
    "        \n",
    "        z_test = np.array(np.dot(X_Test, self.theta),dtype=np.float32)\n",
    "        h_test = self.__sigmoid(z_test)\n",
    "    \n",
    "        a = self.__loss(h_train,Y_Train) \n",
    "        b = self.__loss(h_test,Y_Test) \n",
    "        \n",
    "        return(a,b)"
   ]
  },
  {
   "cell_type": "code",
   "execution_count": 125,
   "metadata": {},
   "outputs": [
    {
     "name": "stdout",
     "output_type": "stream",
     "text": [
      "CPU times: user 4.43 s, sys: 54.1 ms, total: 4.48 s\n",
      "Wall time: 4.61 s\n"
     ]
    }
   ],
   "source": [
    "model = LogisticRegression(lbd = 10, lr=0.01, num_iter=10000)\n",
    "%time model.fit(X_Train,Y_Train)\n",
    "model.fit_DP_Alg1(X_Train,Y_Train,0.5)"
   ]
  },
  {
   "cell_type": "code",
   "execution_count": 127,
   "metadata": {},
   "outputs": [
    {
     "ename": "KeyboardInterrupt",
     "evalue": "",
     "output_type": "error",
     "traceback": [
      "\u001b[0;31m---------------------------------------------------------------------------\u001b[0m",
      "\u001b[0;31mKeyboardInterrupt\u001b[0m                         Traceback (most recent call last)",
      "\u001b[0;32m<ipython-input-127-8a595c0da990>\u001b[0m in \u001b[0;36m<module>\u001b[0;34m\u001b[0m\n\u001b[1;32m      5\u001b[0m \u001b[0;34m\u001b[0m\u001b[0m\n\u001b[1;32m      6\u001b[0m     \u001b[0mmodel\u001b[0m \u001b[0;34m=\u001b[0m \u001b[0mLogisticRegression\u001b[0m\u001b[0;34m(\u001b[0m\u001b[0mlbd\u001b[0m \u001b[0;34m=\u001b[0m \u001b[0;36m10\u001b[0m\u001b[0;34m,\u001b[0m \u001b[0mlr\u001b[0m\u001b[0;34m=\u001b[0m\u001b[0;36m0.01\u001b[0m\u001b[0;34m,\u001b[0m \u001b[0mnum_iter\u001b[0m\u001b[0;34m=\u001b[0m\u001b[0mj\u001b[0m\u001b[0;34m)\u001b[0m\u001b[0;34m\u001b[0m\u001b[0;34m\u001b[0m\u001b[0m\n\u001b[0;32m----> 7\u001b[0;31m     \u001b[0mmodel\u001b[0m\u001b[0;34m.\u001b[0m\u001b[0mfit\u001b[0m\u001b[0;34m(\u001b[0m\u001b[0mX_Train\u001b[0m\u001b[0;34m,\u001b[0m\u001b[0mY_Train\u001b[0m\u001b[0;34m)\u001b[0m\u001b[0;34m\u001b[0m\u001b[0;34m\u001b[0m\u001b[0m\n\u001b[0m\u001b[1;32m      8\u001b[0m     \u001b[0ma\u001b[0m \u001b[0;34m,\u001b[0m \u001b[0mb\u001b[0m \u001b[0;34m=\u001b[0m \u001b[0mmodel\u001b[0m\u001b[0;34m.\u001b[0m\u001b[0mloss\u001b[0m\u001b[0;34m(\u001b[0m\u001b[0mX_Train\u001b[0m\u001b[0;34m,\u001b[0m \u001b[0mY_Train\u001b[0m\u001b[0;34m,\u001b[0m \u001b[0mX_Test\u001b[0m\u001b[0;34m,\u001b[0m \u001b[0mY_Test\u001b[0m\u001b[0;34m)\u001b[0m\u001b[0;34m\u001b[0m\u001b[0;34m\u001b[0m\u001b[0m\n\u001b[1;32m      9\u001b[0m \u001b[0;34m\u001b[0m\u001b[0m\n",
      "\u001b[0;32m<ipython-input-120-1b3d2164c479>\u001b[0m in \u001b[0;36mfit\u001b[0;34m(self, X, y)\u001b[0m\n\u001b[1;32m     32\u001b[0m \u001b[0;34m\u001b[0m\u001b[0m\n\u001b[1;32m     33\u001b[0m         \u001b[0;32mfor\u001b[0m \u001b[0mi\u001b[0m \u001b[0;32min\u001b[0m \u001b[0mrange\u001b[0m\u001b[0;34m(\u001b[0m\u001b[0mself\u001b[0m\u001b[0;34m.\u001b[0m\u001b[0mnum_iter\u001b[0m\u001b[0;34m)\u001b[0m\u001b[0;34m:\u001b[0m\u001b[0;34m\u001b[0m\u001b[0;34m\u001b[0m\u001b[0m\n\u001b[0;32m---> 34\u001b[0;31m             \u001b[0mz\u001b[0m \u001b[0;34m=\u001b[0m \u001b[0mnp\u001b[0m\u001b[0;34m.\u001b[0m\u001b[0marray\u001b[0m\u001b[0;34m(\u001b[0m\u001b[0mnp\u001b[0m\u001b[0;34m.\u001b[0m\u001b[0mdot\u001b[0m\u001b[0;34m(\u001b[0m\u001b[0mX\u001b[0m\u001b[0;34m,\u001b[0m \u001b[0mself\u001b[0m\u001b[0;34m.\u001b[0m\u001b[0mtheta\u001b[0m\u001b[0;34m)\u001b[0m\u001b[0;34m,\u001b[0m\u001b[0mdtype\u001b[0m\u001b[0;34m=\u001b[0m\u001b[0mnp\u001b[0m\u001b[0;34m.\u001b[0m\u001b[0mfloat32\u001b[0m\u001b[0;34m)\u001b[0m\u001b[0;34m\u001b[0m\u001b[0;34m\u001b[0m\u001b[0m\n\u001b[0m\u001b[1;32m     35\u001b[0m             \u001b[0mh\u001b[0m \u001b[0;34m=\u001b[0m \u001b[0mself\u001b[0m\u001b[0;34m.\u001b[0m\u001b[0m__sigmoid\u001b[0m\u001b[0;34m(\u001b[0m\u001b[0mz\u001b[0m\u001b[0;34m)\u001b[0m\u001b[0;34m\u001b[0m\u001b[0;34m\u001b[0m\u001b[0m\n\u001b[1;32m     36\u001b[0m             \u001b[0mgradient\u001b[0m \u001b[0;34m=\u001b[0m \u001b[0mnp\u001b[0m\u001b[0;34m.\u001b[0m\u001b[0mdot\u001b[0m\u001b[0;34m(\u001b[0m\u001b[0mX\u001b[0m\u001b[0;34m.\u001b[0m\u001b[0mT\u001b[0m\u001b[0;34m,\u001b[0m \u001b[0;34m(\u001b[0m\u001b[0mh\u001b[0m \u001b[0;34m-\u001b[0m \u001b[0my\u001b[0m\u001b[0;34m)\u001b[0m\u001b[0;34m)\u001b[0m \u001b[0;34m/\u001b[0m \u001b[0my\u001b[0m\u001b[0;34m.\u001b[0m\u001b[0msize\u001b[0m \u001b[0;34m+\u001b[0m \u001b[0;34m(\u001b[0m\u001b[0mself\u001b[0m\u001b[0;34m.\u001b[0m\u001b[0mlbd\u001b[0m\u001b[0;34m*\u001b[0m\u001b[0mself\u001b[0m\u001b[0;34m.\u001b[0m\u001b[0mtheta\u001b[0m\u001b[0;34m)\u001b[0m\u001b[0;34m/\u001b[0m \u001b[0my\u001b[0m\u001b[0;34m.\u001b[0m\u001b[0msize\u001b[0m\u001b[0;34m\u001b[0m\u001b[0;34m\u001b[0m\u001b[0m\n",
      "\u001b[0;31mKeyboardInterrupt\u001b[0m: "
     ]
    }
   ],
   "source": [
    "for j in range(1000,1000001,1000):\n",
    "    \n",
    "    Loss_Train = []\n",
    "    Loss_Test = []\n",
    "    \n",
    "    model = LogisticRegression(lbd = 10, lr=0.01, num_iter=j)\n",
    "    model.fit(X_Train,Y_Train)\n",
    "    a , b = model.loss(X_Train, Y_Train, X_Test, Y_Test) \n",
    "    \n",
    "    Loss_Train.append(a)\n",
    "    Loss_Test.append(b)"
   ]
  },
  {
   "cell_type": "code",
   "execution_count": null,
   "metadata": {},
   "outputs": [],
   "source": [
    "num_iter = [j for j in range(1000,1000001,1000)]\n",
    "plt.plot(num_iter,Loss_Train,'r',num_iter,Loss_Test,'b')"
   ]
  },
  {
   "cell_type": "code",
   "execution_count": 8,
   "metadata": {},
   "outputs": [],
   "source": [
    "def F1_score(Predict,Y_Test):\n",
    "    P = np.sum(Predict[Y_Test==1] == Y_Test[Y_Test==1]) / (np.sum(Predict[Y_Test==1] == Y_Test[Y_Test==1]) +\\\n",
    "                                                     np.sum(Predict[Y_Test == 0])) # False positive\n",
    "    R = np.sum(Predict[Y_Test==1] == Y_Test[Y_Test==1]) / (np.sum(Predict[Y_Test==1] == Y_Test[Y_Test==1]) +\\\n",
    "                                                     np.sum(Y_Test[Predict==0])) # False negative\n",
    "    \n",
    "    return((2*P*R)/(P+R))"
   ]
  },
  {
   "cell_type": "code",
   "execution_count": 9,
   "metadata": {},
   "outputs": [],
   "source": [
    "model = LogisticRegression(lbd = 10, lr=0.01, num_iter=200000)"
   ]
  },
  {
   "cell_type": "code",
   "execution_count": 10,
   "metadata": {},
   "outputs": [
    {
     "name": "stdout",
     "output_type": "stream",
     "text": [
      "CPU times: user 1min 23s, sys: 666 ms, total: 1min 24s\n",
      "Wall time: 1min 25s\n"
     ]
    }
   ],
   "source": [
    "%time model.fit(X_Train, Y_Train)\n",
    "print()"
   ]
  },
  {
   "cell_type": "code",
   "execution_count": 48,
   "metadata": {},
   "outputs": [],
   "source": [
    "L = []\n",
    "L_DP = [] \n",
    "Lambda = np.linspace(1,100,10)"
   ]
  },
  {
   "cell_type": "code",
   "execution_count": 49,
   "metadata": {},
   "outputs": [
    {
     "data": {
      "text/plain": [
       "Text(0, 0.5, '# of experiments')"
      ]
     },
     "execution_count": 49,
     "metadata": {},
     "output_type": "execute_result"
    },
    {
     "data": {
      "image/png": "[encoded data removed]",
      "text/plain": [
       "<Figure size 720x360 with 2 Axes>"
      ]
     },
     "metadata": {
      "needs_background": "light"
     },
     "output_type": "display_data"
    }
   ],
   "source": [
    "for i in Lambda: \n",
    "    model = LogisticRegression(lbd = i, lr=0.1, num_iter=80000)\n",
    "    \n",
    "    model.fit(X_Train, Y_Train)\n",
    "    preds = model.predict(X_Test,0.5)\n",
    "    L.append(F1_score(np.asarray(preds).flatten(),Y_Test))\n",
    "    \n",
    "    model.fit_DP_Alg1(X_Train,Y_Train,eps =0.5)\n",
    "    preds = model.predict(X_Test,0.5)\n",
    "    L_DP.append(F1_score(np.asarray(preds).flatten(),Y_Test))\n",
    "\n",
    "fig = plt.figure(figsize =(10,5))\n",
    "fig.add_subplot(1,2,1)\n",
    "plt.hist(L)\n",
    "plt.title(\"Distribution of Logistic Regression's F1_score without DP\")\n",
    "plt.xlabel('F1_score')\n",
    "plt.ylabel('# of experiments')\n",
    "fig.add_subplot(1,2,2)\n",
    "plt.hist(L_DP)\n",
    "plt.title(\"Distribution of Logistic Regression's F1_score with DP\")\n",
    "plt.xlabel('F1_score')\n",
    "plt.ylabel('# of experiments')"
   ]
  },
  {
   "cell_type": "code",
   "execution_count": 54,
   "metadata": {},
   "outputs": [],
   "source": [
    "L_DP2 = []\n",
    "for i in Lambda: \n",
    "    model = LogisticRegression(lbd = i, lr=0.1, num_iter=80000)\n",
    "    model.fit_DP_Alg2(X_Train,Y_Train,eps =0.5)\n",
    "    preds = model.predict(X_Test,0.5)\n",
    "    L_DP2.append(F1_score(np.asarray(preds).flatten(),Y_Test))"
   ]
  },
  {
   "cell_type": "code",
   "execution_count": 55,
   "metadata": {},
   "outputs": [
    {
     "data": {
      "text/plain": [
       "Text(0, 0.5, '# of experiments')"
      ]
     },
     "execution_count": 55,
     "metadata": {},
     "output_type": "execute_result"
    },
    {
     "data": {
      "image/png": "[encoded data removed]",
      "text/plain": [
       "<Figure size 432x288 with 1 Axes>"
      ]
     },
     "metadata": {
      "needs_background": "light"
     },
     "output_type": "display_data"
    }
   ],
   "source": [
    "plt.hist(L_DP2)\n",
    "plt.title(\"Distribution of Logistic Regression's F1_score with DP 2 \")\n",
    "plt.xlabel('F1_score')\n",
    "plt.ylabel('# of experiments')"
   ]
  },
  {
   "cell_type": "code",
   "execution_count": 59,
   "metadata": {},
   "outputs": [
    {
     "data": {
      "text/plain": [
       "Text(0, 0.5, 'F1_score')"
      ]
     },
     "execution_count": 59,
     "metadata": {},
     "output_type": "execute_result"
    },
    {
     "data": {
      "image/png": "[encoded data removed]",
      "text/plain": [
       "<Figure size 432x288 with 1 Axes>"
      ]
     },
     "metadata": {
      "needs_background": "light"
     },
     "output_type": "display_data"
    }
   ],
   "source": [
    "eps = np.linspace(0.5,0.01,10)\n",
    "M = []\n",
    "for i in eps: \n",
    "    model = LogisticRegression(lbd = 1, lr=0.1, num_iter=100000)\n",
    "    model.fit(X_Train, Y_Train)\n",
    "    model.fit_DP_Alg1(X_Train,Y_Train,eps =i)\n",
    "    preds = model.predict(X_Test,0.5)\n",
    "    M.append(F1_score(np.asarray(preds).flatten(),Y_Test))\n",
    "    \n",
    "plt.plot(eps,M)\n",
    "plt.title('F1_score function of Privacy Budget')\n",
    "plt.xlabel('Big O of Privacy Budget')\n",
    "plt.ylabel('F1_score')"
   ]
  },
  {
   "cell_type": "code",
   "execution_count": null,
   "metadata": {},
   "outputs": [],
   "source": []
  }
 ],
 "metadata": {
  "kernelspec": {
   "display_name": "Python 3",
   "language": "python",
   "name": "python3"
  },
  "language_info": {
   "codemirror_mode": {
    "name": "ipython",
    "version": 3
   },
   "file_extension": ".py",
   "mimetype": "text/x-python",
   "name": "python",
   "nbconvert_exporter": "python",
   "pygments_lexer": "ipython3",
   "version": "3.7.3"
  }
 },
 "nbformat": 4,
 "nbformat_minor": 2
}
