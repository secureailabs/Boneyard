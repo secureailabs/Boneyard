{
 "cells": [
  {
   "cell_type": "markdown",
   "metadata": {},
   "source": [
    "## Novartis Demo: Distributed Differentially Private PCA in a Secure Environment"
   ]
  },
  {
   "cell_type": "markdown",
   "metadata": {},
   "source": [
    "This study uses material from : https://ieeexplore.ieee.org/stamp/stamp.jsp?tp=&arnumber=8509100"
   ]
  },
  {
   "cell_type": "markdown",
   "metadata": {},
   "source": [
    "## Imports"
   ]
  },
  {
   "cell_type": "code",
   "execution_count": 1,
   "metadata": {},
   "outputs": [],
   "source": [
    "import os \n",
    "import numpy as np\n",
    "import pandas\n",
    "import matplotlib.pyplot as plt\n",
    "from mpl_toolkits.mplot3d import Axes3D"
   ]
  },
  {
   "cell_type": "markdown",
   "metadata": {},
   "source": [
    "## Supporting functions"
   ]
  },
  {
   "cell_type": "code",
   "execution_count": 2,
   "metadata": {},
   "outputs": [],
   "source": [
    "# function to compute differentially-private second-moment matrix\n",
    "def dp_pca_ag ( A, N, epsilon = 1.0, delta = 0.1 ):\n",
    "    sigma = ( 1.0 / ( N * epsilon ) ) * np.sqrt( 2.0 * np.log( 1.25 / delta ) )\n",
    "    m = A.shape[0]\n",
    "    temp = np.random.normal( 0, sigma, (m, m))\n",
    "    temp2 = np.triu(temp)\n",
    "    temp3 = temp2.transpose()\n",
    "    temp4 = np.tril(temp3, -1)\n",
    "    E = temp2 + temp4\n",
    "    hat_A = A + E\n",
    "    return hat_A\n",
    "\n",
    "# function to compute the second-moment matrix of local data\n",
    "def localPCA(data, epsilon = 0, delta = 0):\n",
    "    N = data.shape[1] # Number of features \n",
    "    C = (1/N) * np.dot(data, data.T)\n",
    "    if not(epsilon == 0):\n",
    "        C = dp_pca_ag( C, N, epsilon, delta )\n",
    "    return C\n",
    "\n",
    "# function to compute the global second-moment matrix and PCA subspace\n",
    "def globalPCA(Cs, K):\n",
    "    C = 0\n",
    "    S = len(Cs)\n",
    "    for s in range(S):\n",
    "        C += Cs[s]\n",
    "    C = (1/S) * C\n",
    "    U, S, V = np.linalg.svd(C)\n",
    "    Uk = U[:, :K]\n",
    "    return Uk"
   ]
  },
  {
   "cell_type": "markdown",
   "metadata": {},
   "source": [
    "## Load data"
   ]
  },
  {
   "cell_type": "code",
   "execution_count": 3,
   "metadata": {},
   "outputs": [],
   "source": [
    "datadir = \"~/Novartis/201903_testcase\""
   ]
  },
  {
   "cell_type": "code",
   "execution_count": null,
   "metadata": {},
   "outputs": [],
   "source": [
    "iHMPall_MSP_df = pandas.read_csv(\n",
    "    f\"{datadir}/iHMPall_MSP_df.tsv.gz\",\n",
    "    index_col=[0,1], \n",
    "    sep = \"\\t\")\n",
    "\n",
    "iHMPall_metadata_df = pandas.read_csv(\n",
    "    f\"{datadir}/iHMPall_metadata_df.tsv.gz\",\n",
    "    index_col=0,\n",
    "    sep = \"\\t\")\n",
    "\n",
    "iHMPall_norm_df = pandas.read_csv(\n",
    "    f\"{datadir}/iHMPall_norm_df.tsv.gz\",\n",
    "    index_col=0,\n",
    "    sep = \"\\t\")"
   ]
  },
  {
   "cell_type": "markdown",
   "metadata": {},
   "source": [
    "## Subset relevant samples per Hostipals per Diagnosis "
   ]
  },
  {
   "cell_type": "code",
   "execution_count": null,
   "metadata": {},
   "outputs": [],
   "source": [
    "i_CD_baseline = iHMPall_metadata_df\\\n",
    "    .loc[iHMPall_metadata_df[\"diagnosis\"] == \"CD\", [\"study|subset\",\"participantID\", \"diagnosis\", \"visit_num\"]]\n",
    "\n",
    "\n",
    "i_UC_baseline = iHMPall_metadata_df\\\n",
    "    .loc[iHMPall_metadata_df[\"diagnosis\"] == \"UC\", [\"study|subset\",\"participantID\", \"diagnosis\", \"visit_num\"]]\n",
    "\n",
    "\n",
    "\n",
    "i_nonIBD_baseline = iHMPall_metadata_df\\\n",
    "    .loc[iHMPall_metadata_df[\"diagnosis\"] == \"nonIBD\", [\"study|subset\",\"participantID\", \"diagnosis\", \"visit_num\"]]\n",
    "\n",
    "i_nonIBD_baseline_CedarsSinai = i_nonIBD_baseline.loc[i_nonIBD_baseline[\"study|subset\"] == \"HMP2|Cedars-Sinai\",:]\\\n",
    "                            .reset_index()\\\n",
    "                            .dropna(axis=\"index\", how=\"any\")[\"index\"].tolist()\n",
    "\n",
    "i_nonIBD_baseline_Emory = i_nonIBD_baseline.loc[i_nonIBD_baseline[\"study|subset\"] == \"HMP2|Emory\",:]\\\n",
    "                            .reset_index()\\\n",
    "                            .dropna(axis=\"index\", how=\"any\")[\"index\"].tolist()\n",
    "\n",
    "i_nonIBD_baseline_Cincinnati = i_nonIBD_baseline.loc[i_nonIBD_baseline[\"study|subset\"] == \"HMP2|Cincinnati\",:]\\\n",
    "                            .reset_index()\\\n",
    "                            .dropna(axis=\"index\", how=\"any\")[\"index\"].tolist()\n",
    "\n",
    "i_nonIBD_baseline_MGH = i_nonIBD_baseline.loc[i_nonIBD_baseline[\"study|subset\"] == \"HMP2|MGH\",:]\\\n",
    "                            .reset_index()\\\n",
    "                            .dropna(axis=\"index\", how=\"any\")[\"index\"].tolist()\n",
    "\n",
    "i_nonIBD_baseline_MGH_Pediatrics = i_nonIBD_baseline.loc[i_nonIBD_baseline[\"study|subset\"] == \"HMP2|MGH Pediatrics\",:]\\\n",
    "                            .reset_index()\\\n",
    "                            .dropna(axis=\"index\", how=\"any\")[\"index\"].tolist()"
   ]
  },
  {
   "cell_type": "markdown",
   "metadata": {},
   "source": [
    "## Distributed PCA "
   ]
  },
  {
   "cell_type": "code",
   "execution_count": null,
   "metadata": {},
   "outputs": [],
   "source": [
    "iHMPall_MSP_df.head()"
   ]
  },
  {
   "cell_type": "code",
   "execution_count": null,
   "metadata": {},
   "outputs": [],
   "source": [
    "#Selecting shared genomic data + normalization \n",
    "##CD\n",
    "iHMPall_MSP_CD_CedarsSinai = iHMPall_MSP_df\\\n",
    "    .loc[:, i_CD_baseline_CedarsSinai]\\\n",
    "    .apply(lambda s: s / iHMPall_norm_df.loc[iHMPall_MSP_df.index.get_level_values('module_name') == 'msp_0001' , i_CD_baseline_CedarsSinai].iloc[0,:].values, axis=1).reset_index(level=1, drop=True)\n",
    "\n",
    "iHMPall_MSP_CD_Emory = iHMPall_MSP_df\\\n",
    "    .loc[:, i_CD_baseline_Emory]\\\n",
    "    .apply(lambda s: s / iHMPall_norm_df.loc[:, i_CD_baseline_Emory].iloc[0,:].values, axis=1).reset_index(level=1, drop=True)\n",
    "\n",
    "iHMPall_MSP_CD_Cincinnati = iHMPall_MSP_df\\\n",
    "    .loc[:, i_CD_baseline_Cincinnati]\\\n",
    "    .apply(lambda s: s / iHMPall_norm_df.loc[:, i_CD_baseline_Cincinnati].iloc[0,:].values, axis=1).reset_index(level=1, drop=True)\n",
    "\n",
    "iHMPall_MSP_CD_MGH = iHMPall_MSP_df\\\n",
    "    .loc[:, i_CD_baseline_MGH]\\\n",
    "    .apply(lambda s: s / iHMPall_norm_df.loc[:, i_CD_baseline_MGH].iloc[0,:].values, axis=1).reset_index(level=1, drop=True)\n",
    "\n",
    "iHMPall_MSP_CD_MGH_Pediatrics = iHMPall_MSP_df\\\n",
    "    .loc[:, i_CD_baseline_MGH_Pediatrics]\\\n",
    "    .apply(lambda s: s / iHMPall_norm_df.loc[:, i_CD_baseline_MGH_Pediatrics].iloc[0,:].values, axis=1).reset_index(level=1, drop=True)\n",
    "\n",
    "##UC \n",
    "iHMPall_MSP_UC_CedarsSinai = iHMPall_MSP_df\\\n",
    "    .loc[:, i_UC_baseline_CedarsSinai]\\\n",
    "    .apply(lambda s: s / iHMPall_norm_df.loc[:, i_UC_baseline_CedarsSinai].iloc[0,:].values, axis=1).reset_index(level=1, drop=True)\n",
    "\n",
    "iHMPall_MSP_UC_Emory = iHMPall_MSP_df\\\n",
    "    .loc[:, i_UC_baseline_Emory]\\\n",
    "    .apply(lambda s: s / iHMPall_norm_df.loc[:, i_UC_baseline_Emory].iloc[0,:].values, axis=1).reset_index(level=1, drop=True)\n",
    "\n",
    "iHMPall_MSP_UC_Cincinnati = iHMPall_MSP_df\\\n",
    "    .loc[:, i_UC_baseline_Cincinnati]\\\n",
    "    .apply(lambda s: s / iHMPall_norm_df.loc[:, i_UC_baseline_Cincinnati].iloc[0,:].values, axis=1).reset_index(level=1, drop=True)\n",
    "\n",
    "iHMPall_MSP_UC_MGH = iHMPall_MSP_df\\\n",
    "    .loc[:, i_UC_baseline_MGH]\\\n",
    "    .apply(lambda s: s / iHMPall_norm_df.loc[:, i_UC_baseline_MGH].iloc[0,:].values, axis=1).reset_index(level=1, drop=True)\n",
    "\n",
    "iHMPall_MSP_UC_MGH_Pediatrics = iHMPall_MSP_df\\\n",
    "    .loc[:, i_UC_baseline_MGH_Pediatrics]\\\n",
    "    .apply(lambda s: s / iHMPall_norm_df.loc[:, i_UC_baseline_MGH_Pediatrics].iloc[0,:].values, axis=1).reset_index(level=1, drop=True)\n",
    "\n",
    "##nonIBD \n",
    "iHMPall_MSP_nonIBD_CedarsSinai = iHMPall_MSP_df\\\n",
    "    .loc[:, i_nonIBD_baseline_CedarsSinai]\\\n",
    "    .apply(lambda s: s / iHMPall_norm_df.loc[:, i_nonIBD_baseline_CedarsSinai].iloc[0,:].values, axis=1).reset_index(level=1, drop=True)\n",
    "\n",
    "iHMPall_MSP_nonIBD_Emory = iHMPall_MSP_df\\\n",
    "    .loc[:, i_nonIBD_baseline_Emory]\\\n",
    "    .apply(lambda s: s / iHMPall_norm_df.loc[:, i_nonIBD_baseline_Emory].iloc[0,:].values, axis=1).reset_index(level=1, drop=True)\n",
    "\n",
    "iHMPall_MSP_nonIBD_Cincinnati = iHMPall_MSP_df\\\n",
    "    .loc[:, i_nonIBD_baseline_Cincinnati]\\\n",
    "    .apply(lambda s: s / iHMPall_norm_df.loc[:, i_nonIBD_baseline_Cincinnati].iloc[0,:].values, axis=1).reset_index(level=1, drop=True)\n",
    "\n",
    "iHMPall_MSP_nonIBD_MGH = iHMPall_MSP_df\\\n",
    "    .loc[:, i_nonIBD_baseline_MGH]\\\n",
    "    .apply(lambda s: s / iHMPall_norm_df.loc[:, i_nonIBD_baseline_MGH].iloc[0,:].values, axis=1).reset_index(level=1, drop=True)\n",
    "\n",
    "iHMPall_MSP_nonIBD_MGH_Pediatrics = iHMPall_MSP_df\\\n",
    "    .loc[:, i_nonIBD_baseline_MGH_Pediatrics]\\\n",
    "    .apply(lambda s: s / iHMPall_norm_df.loc[:, i_nonIBD_baseline_MGH_Pediatrics].iloc[0,:].values, axis=1).reset_index(level=1, drop=True)"
   ]
  },
  {
   "cell_type": "markdown",
   "metadata": {},
   "source": [
    "## Sub-Enclave 1"
   ]
  },
  {
   "cell_type": "code",
   "execution_count": null,
   "metadata": {},
   "outputs": [],
   "source": [
    "data_CD = np.nan_to_num(iHMPall_MSP_CD_CedarsSinai.dropna(axis=1, how=\"any\").values)\n",
    "X1_CD = localPCA(data_CD, epsilon = 0.5, delta = 0.00001)\n",
    "\n",
    "data_UC = np.nan_to_num(iHMPall_MSP_UC_CedarsSinai.dropna(axis=1, how=\"any\").values)\n",
    "X1_UC = localPCA(data_UC, epsilon = 0.5, delta = 0.00001)\n",
    "data_nonIBD = np.nan_to_num(iHMPall_MSP_nonIBD_CedarsSinai.dropna(axis=1, how=\"all\").values)\n",
    "X1_nonIBD = localPCA(data_nonIBD, epsilon = 0.5, delta = 0.00001)"
   ]
  },
  {
   "cell_type": "markdown",
   "metadata": {},
   "source": [
    "## Sub-Enclave 2"
   ]
  },
  {
   "cell_type": "code",
   "execution_count": null,
   "metadata": {},
   "outputs": [],
   "source": [
    "data_CD = np.nan_to_num(iHMPall_MSP_CD_Emory.dropna(axis=1, how=\"any\").values)\n",
    "X2_CD = localPCA(data_CD, epsilon = 0.5, delta = 0.00001)\n",
    "\n",
    "#Emory and Diagnosis UC == blank\n",
    "\n",
    "data_nonIBD = np.nan_to_num(iHMPall_MSP_nonIBD_Emory.dropna(axis=1, how=\"any\").values)\n",
    "X2_nonIBD = localPCA(data_nonIBD,epsilon = 0.5, delta = 0.00001)\n",
    "\n"
   ]
  },
  {
   "cell_type": "markdown",
   "metadata": {},
   "source": [
    "## Sub-Enclave 3"
   ]
  },
  {
   "cell_type": "code",
   "execution_count": null,
   "metadata": {},
   "outputs": [],
   "source": [
    "data_CD = np.nan_to_num(iHMPall_MSP_CD_Cincinnati.dropna(axis=1, how=\"any\").values)\n",
    "X3_CD = localPCA(data_CD, epsilon = 0.5, delta = 0.00001)\n",
    "\n",
    "data_UC = np.nan_to_num(iHMPall_MSP_UC_Cincinnati.dropna(axis=1, how=\"any\").values)\n",
    "X3_UC = localPCA(data_UC, epsilon = 0.5, delta = 0.00001)\n",
    "\n",
    "data_nonIBD = np.nan_to_num(iHMPall_MSP_nonIBD_Cincinnati.dropna(axis=1, how=\"any\").values)\n",
    "X3_nonIBD = localPCA(data_nonIBD, epsilon = 0.5, delta = 0.00001)"
   ]
  },
  {
   "cell_type": "markdown",
   "metadata": {},
   "source": [
    "## Sub-Enclave 4"
   ]
  },
  {
   "cell_type": "code",
   "execution_count": null,
   "metadata": {},
   "outputs": [],
   "source": [
    "data_CD = np.nan_to_num(iHMPall_MSP_CD_MGH.dropna(axis=1, how=\"any\").values)\n",
    "X4_CD = localPCA(data_CD, epsilon = 0.5, delta = 0.00001)\n",
    "\n",
    "data_UC = np.nan_to_num(iHMPall_MSP_UC_MGH.dropna(axis=1, how=\"any\").values)\n",
    "X4_UC = localPCA(data_UC, epsilon = 0.5, delta = 0.00001)\n",
    "\n",
    "data_nonIBD = np.nan_to_num(iHMPall_MSP_nonIBD_MGH.dropna(axis=1, how=\"any\").values)\n",
    "X4_nonIBD = localPCA(data_nonIBD, epsilon = 0.5, delta = 0.00001)"
   ]
  },
  {
   "cell_type": "markdown",
   "metadata": {},
   "source": [
    "## Sub-Enclave 5"
   ]
  },
  {
   "cell_type": "code",
   "execution_count": null,
   "metadata": {},
   "outputs": [],
   "source": [
    "data_CD = np.nan_to_num(iHMPall_MSP_CD_MGH_Pediatrics.dropna(axis=1, how=\"any\").values)\n",
    "X5_CD = localPCA(data_CD, epsilon = 0.5, delta = 0.00001)\n",
    "\n",
    "##MGH pediatrics and diagnosis UC == blank \n",
    "\n",
    "data_nonIBD = np.nan_to_num(iHMPall_MSP_nonIBD_MGH_Pediatrics.dropna(axis=1, how=\"any\").values)\n",
    "X5_nonIBD = localPCA(data_nonIBD, epsilon = 0.5, delta = 0.00001)"
   ]
  },
  {
   "cell_type": "markdown",
   "metadata": {},
   "source": [
    "## Central Dapp with 300 principal component kept"
   ]
  },
  {
   "cell_type": "code",
   "execution_count": null,
   "metadata": {},
   "outputs": [],
   "source": [
    "CD_ans = globalPCA([X1_CD,X2_CD,X3_CD,X4_CD,X5_CD], K = 3)\n",
    "UC_ans = globalPCA([X1_UC,X3_UC,X4_UC] ,K = 3)\n",
    "nonIBD_ans = globalPCA([X3_nonIBD,X4_nonIBD], K = 3) "
   ]
  },
  {
   "cell_type": "code",
   "execution_count": null,
   "metadata": {},
   "outputs": [],
   "source": [
    "d={\"PC1_CD\":CD_ans.T[0] ,\"PC2_CD\":CD_ans.T[1],\\\n",
    "   \"PC1_UC\":UC_ans.T[0] ,\"PC2_UC\":UC_ans.T[1],\\\n",
    "   \"PC1_nonIBD\":nonIBD_ans.T[0] ,\"PC2_nonIBD\":nonIBD_ans.T[1]}\n",
    "df_PC = pandas.DataFrame(d)"
   ]
  },
  {
   "cell_type": "code",
   "execution_count": null,
   "metadata": {},
   "outputs": [],
   "source": [
    "fig = plt.figure(figsize = (8,8))\n",
    "ax = fig.add_subplot(1,1,1) \n",
    "ax.set_xlabel('Principal Component 1', fontsize = 15)\n",
    "ax.set_ylabel('Principal Component 2', fontsize = 15)\n",
    "ax.set_title('2 Component PCA', fontsize = 20)\n",
    "\n",
    "Diagnosis = ['CD', 'UC', 'nonIBD']\n",
    "colors = ['r', 'g', 'b']\n",
    "\n",
    "ax.scatter(df_PC[\"PC1_CD\"]\n",
    "       , df_PC[\"PC2_CD\"]\n",
    "       , c = 'r'\n",
    "       , s = 50)\n",
    "\n",
    "ax.scatter(df_PC[\"PC1_UC\"]\n",
    "       , df_PC[\"PC2_UC\"]\n",
    "       , c = 'g'\n",
    "       , s = 50)\n",
    "\n",
    "ax.scatter(df_PC[\"PC1_nonIBD\"]\n",
    "      , df_PC[\"PC2_nonIBD\"]\n",
    "      , c = 'b'\n",
    "      , s = 50)\n",
    "\n",
    "ax.legend(Diagnosis)\n",
    "ax.grid()"
   ]
  },
  {
   "cell_type": "code",
   "execution_count": null,
   "metadata": {},
   "outputs": [],
   "source": [
    "d_3D={\"PC1_CD\":CD_ans.T[0] ,\"PC2_CD\":CD_ans.T[1],\"PC3_CD\":CD_ans.T[2],\n",
    "   \"PC1_UC\":UC_ans.T[0] ,\"PC2_UC\":UC_ans.T[1],\"PC3_UC\":UC_ans.T[2],\n",
    "   \"PC1_nonIBD\":nonIBD_ans.T[0] ,\"PC2_nonIBD\":nonIBD_ans.T[1],\"PC3_nonIBD\":nonIBD_ans.T[2]}\n",
    "df_PC_3D = pandas.DataFrame(d_3D)"
   ]
  },
  {
   "cell_type": "code",
   "execution_count": null,
   "metadata": {},
   "outputs": [],
   "source": [
    "fig = plt.figure(figsize = (8,8))\n",
    "ax = fig.add_subplot(111, projection='3d')\n",
    "Diagnosis = ['CD', 'UC', 'nonIBD']\n",
    "colors = ['r', 'g', 'b']\n",
    "\n",
    "ax.scatter(df_PC_3D[\"PC1_CD\"]\n",
    "       , df_PC_3D[\"PC2_CD\"]\n",
    "        , df_PC_3D[\"PC3_CD\"]\n",
    "       , c = 'r')\n",
    "\n",
    "ax.scatter(df_PC_3D[\"PC1_UC\"]\n",
    "       ,df_PC_3D[\"PC2_UC\"]\n",
    "        ,df_PC_3D[\"PC3_UC\"]\n",
    "       , c = 'g')\n",
    "ax.scatter(df_PC_3D[\"PC1_nonIBD\"]\n",
    "      , df_PC_3D[\"PC2_nonIBD\"]\n",
    "        ,df_PC_3D[\"PC3_nonIBD\"]\n",
    "      ,c = 'b')\n",
    "\n",
    "ax.set_xlabel('Principal Component 1', fontsize = 15)\n",
    "ax.set_ylabel('Principal Component 2', fontsize = 15)\n",
    "ax.set_zlabel('Principal Component 3', fontsize = 15)\n",
    "ax.set_title('3 Component PCA', fontsize = 20)\n",
    "ax.legend(Diagnosis)\n",
    "ax.grid()"
   ]
  },
  {
   "cell_type": "code",
   "execution_count": null,
   "metadata": {},
   "outputs": [],
   "source": []
  },
  {
   "cell_type": "code",
   "execution_count": null,
   "metadata": {},
   "outputs": [],
   "source": []
  }
 ],
 "metadata": {
  "kernelspec": {
   "display_name": "Python 3",
   "language": "python",
   "name": "python3"
  },
  "language_info": {
   "codemirror_mode": {
    "name": "ipython",
    "version": 3
   },
   "file_extension": ".py",
   "mimetype": "text/x-python",
   "name": "python",
   "nbconvert_exporter": "python",
   "pygments_lexer": "ipython3",
   "version": "3.7.3"
  }
 },
 "nbformat": 4,
 "nbformat_minor": 2
}
