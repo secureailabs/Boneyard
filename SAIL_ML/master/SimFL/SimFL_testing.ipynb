{
  "nbformat": 4,
  "nbformat_minor": 0,
  "metadata": {
    "kernelspec": {
      "display_name": "Python 3",
      "language": "python",
      "name": "python3"
    },
    "language_info": {
      "codemirror_mode": {
        "name": "ipython",
        "version": 3
      },
      "file_extension": ".py",
      "mimetype": "text/x-python",
      "name": "python",
      "nbconvert_exporter": "python",
      "pygments_lexer": "ipython3",
      "version": "3.7.6"
    },
    "colab": {
      "name": "SimFL_testing.ipynb",
      "provenance": [],
      "collapsed_sections": []
    }
  },
  "cells": [
    {
      "cell_type": "code",
      "metadata": {
        "id": "1NrrmFhRP0A8",
        "colab_type": "code",
        "colab": {}
      },
      "source": [
        "import numpy as np\n",
        "from collections import Counter\n",
        "from sklearn.datasets import fetch_openml, make_classification\n",
        "from sklearn.model_selection import train_test_split\n",
        "from sklearn.metrics import confusion_matrix\n",
        "from tqdm import tqdm\n",
        "import xgboost as xgb\n",
        "from copy import deepcopy\n",
        "\n",
        "import pandas as pd # Used only to import data\n",
        "import io\n",
        "from sklearn.preprocessing import LabelEncoder\n",
        "from sklearn.preprocessing import OneHotEncoder\n",
        "from sklearn.compose import ColumnTransformer\n",
        "from sklearn.metrics import accuracy_score, roc_auc_score\n",
        "\n",
        "import matplotlib.pyplot as plt\n",
        "import csv"
      ],
      "execution_count": 1,
      "outputs": []
    },
    {
      "cell_type": "markdown",
      "metadata": {
        "id": "ec96E4YrcW6f",
        "colab_type": "text"
      },
      "source": [
        "### Load dataset\n",
        "\n",
        "Rows are examples, columns are features. Data should be loaded as a numpy array. If X (features) has shape (n,m), y (labels) needs to have shape (n,). "
      ]
    },
    {
      "cell_type": "code",
      "metadata": {
        "id": "H9dZ7mGdWZ1z",
        "colab_type": "code",
        "colab": {
          "resources": {
            "http://localhost:8080/nbextensions/google.colab/files.js": {
              "data": "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",
              "ok": true,
              "headers": [
                [
                  "content-type",
                  "application/javascript"
                ]
              ],
              "status": 200,
              "status_text": ""
            }
          },
          "base_uri": "https://localhost:8080/",
          "height": 106
        },
        "outputId": "6d378cd3-804c-49a2-e557-df783337fbdd"
      },
      "source": [
        "# Upload data\n",
        "from google.colab import files # change to work locally using Jupyter\n",
        "uploaded = files.upload()"
      ],
      "execution_count": 2,
      "outputs": [
        {
          "output_type": "display_data",
          "data": {
            "text/html": [
              "\n",
              "     <input type=\"file\" id=\"files-8a5b5cbf-eaec-4cc9-99f7-b362a68a57b9\" name=\"files[]\" multiple disabled\n",
              "        style=\"border:none\" />\n",
              "     <output id=\"result-8a5b5cbf-eaec-4cc9-99f7-b362a68a57b9\">\n",
              "      Upload widget is only available when the cell has been executed in the\n",
              "      current browser session. Please rerun this cell to enable.\n",
              "      </output>\n",
              "      <script src=\"/nbextensions/google.colab/files.js\"></script> "
            ],
            "text/plain": [
              "<IPython.core.display.HTML object>"
            ]
          },
          "metadata": {
            "tags": []
          }
        },
        {
          "output_type": "stream",
          "text": [
            "Saving Telco1.csv to Telco1.csv\n",
            "Saving Telco2.csv to Telco2.csv\n"
          ],
          "name": "stdout"
        }
      ]
    },
    {
      "cell_type": "code",
      "metadata": {
        "id": "DRMg4g_OueiR",
        "colab_type": "code",
        "colab": {}
      },
      "source": [
        "telco1 = pd.read_csv(io.BytesIO(uploaded['Telco1.csv']))\n",
        "telco2 = pd.read_csv(io.BytesIO(uploaded['Telco2.csv']))"
      ],
      "execution_count": 3,
      "outputs": []
    },
    {
      "cell_type": "code",
      "metadata": {
        "id": "08tltHFOZdYi",
        "colab_type": "code",
        "colab": {}
      },
      "source": [
        "# Use Label Encoder for categorical (not binary) features\n",
        "# (not recommended according to xgb documentation)\n",
        "def label_encode(df):\n",
        "    cate = [key for key in dict(df.dtypes) if dict(df.dtypes)[key] in ['bool', 'object']]\n",
        "    # print(cate)\n",
        "    le = LabelEncoder()\n",
        "    for i in cate:\n",
        "        le.fit(df[i])\n",
        "        df[i] = le.transform(df[i])\n",
        "    return df"
      ],
      "execution_count": 4,
      "outputs": []
    },
    {
      "cell_type": "code",
      "metadata": {
        "id": "9eWwKOvOuqJq",
        "colab_type": "code",
        "colab": {}
      },
      "source": [
        "telco_dataset = 1 # choose either 1 or 2\n",
        "\n",
        "if telco_dataset == 1:\n",
        "    df = telco1\n",
        "    op1 = 'phone number'\n",
        "    op2 = 'churn'\n",
        "else:\n",
        "    df = telco2\n",
        "    op1 = 'customerID'\n",
        "    op2 = 'Churn'\n",
        "    #op3 =    # categorical features to one-hot encode\n",
        "\n",
        "df = df.drop([op1],axis=1) # drop customer ID or phone number\n",
        "\n",
        "# Separate and rewrite churn outcomes\n",
        "le = LabelEncoder()\n",
        "y = df[op2]\n",
        "df = df.drop([op2],axis=1)\n",
        "y = le.fit_transform(y)\n",
        "\n",
        "df = label_encode(df)\n",
        "features = list(df.columns) # Use for SHAP demo later\n",
        "X = df.to_numpy()"
      ],
      "execution_count": 5,
      "outputs": []
    },
    {
      "cell_type": "code",
      "metadata": {
        "id": "dIDBAa-2EE40",
        "colab_type": "code",
        "colab": {}
      },
      "source": [
        "# Alternative datasets for testing\n",
        "\n",
        "# X=[]\n",
        "# y = []\n",
        "   \n",
        "# # X, y = fetch_openml('clean1', version=1, return_X_y=True)\n",
        "# X, y = fetch_openml('codrna', version=1, return_X_y=True)\n",
        "# y = y.astype(float)\n",
        "# y = (y+1)/2\n",
        "# y = y.astype(int)\n",
        "\n",
        "#X, y = make_classification(n_samples=50000, n_features=5, n_redundant=0, n_informative=3,\n",
        "#                           random_state=1, n_clusters_per_class=1) # X is a (50000, 5) numpy array, y is 50000 1d numpy array\n",
        "\n",
        "\n",
        "# X=[]\n",
        "# y = []\n",
        "   \n",
        "# X, y = fetch_openml('mnist_784', version=1, return_X_y=True)\n",
        "# y = y.astype(int)\n"
      ],
      "execution_count": null,
      "outputs": []
    },
    {
      "cell_type": "markdown",
      "metadata": {
        "id": "hUF2QvgDD9-U",
        "colab_type": "text"
      },
      "source": [
        "### Helper functions"
      ]
    },
    {
      "cell_type": "code",
      "metadata": {
        "id": "q9gGGEZGP0BI",
        "colab_type": "code",
        "colab": {}
      },
      "source": [
        "def sigmoid(x):\n",
        "    return 1/(1+ np.exp(-x))\n",
        "\n",
        "# Log loss for logistic regression\n",
        "def cust_obj(preds, training):\n",
        "    labels = training.get_label()\n",
        "    preds = sigmoid(preds)\n",
        "    grad = preds - labels\n",
        "    hess = preds*(1-preds)\n",
        "    return grad, hess\n",
        "\n",
        "def hash(vectors, X, y, L = None, hash_output = False, verbose = False):\n",
        "    num_dim = len(X[0])\n",
        "\n",
        "    if L == None:\n",
        "        L = min(40, num_dim-1) \n",
        "    \n",
        "    r = 4.0\n",
        "    mu = 0.0\n",
        "    sigma = 1.0\n",
        "    hash_functions = []\n",
        "    for l in range(L):\n",
        "        hash_function = []\n",
        "        a = np.random.normal(mu, sigma, num_dim)\n",
        "        b = np.random.uniform(0, r, 1)\n",
        "        hash_function.append(a)\n",
        "        hash_function.append(b)\n",
        "        hash_functions.append(hash_function)\n",
        "\n",
        "    if hash_output:\n",
        "        print(\"\\nHash functions:\\n\")\n",
        "        print(hash_functions)\n",
        "\n",
        "    hash_values = []\n",
        "    counters = []\n",
        "    for party in vectors:\n",
        "        party_hashes = []\n",
        "        party_counters = []\n",
        "        for vector in party[0]:\n",
        "            hashes = []\n",
        "            for hash_index in range(L):\n",
        "                hash_val = (np.dot(hash_functions[hash_index][0], vector) + hash_functions[hash_index][1])/r\n",
        "    #             hash_val = ((hash_functions[hash_index][0].dot(vector)) + hash_functions[hash_index][1])/r\n",
        "                hash_val = np.floor(hash_val)\n",
        "                hash_val_float = hash_val[0]\n",
        "                hashes.append(hash_val_float)\n",
        "            party_counters.append(Counter(hashes))\n",
        "            party_hashes.append(hashes)\n",
        "        hash_values.append(party_hashes)\n",
        "        counters.append(party_counters)\n",
        "\n",
        "    hash_tables = []\n",
        "    if verbose: print(\"\\nBuilding hash tables:\\n\")\n",
        "    for m in tqdm(range(len(vectors)), disable = not verbose):\n",
        "        if verbose: print(m)\n",
        "        hash_table = np.zeros((len(vectors[m][0]), len(vectors))) #For each party, build a hash table of dim numInstances x numParties. \n",
        "        for i in range(len(vectors[m][0])):   #Select an instance x_i in m party\n",
        "            for j in range(len(vectors)):  #Select parties to find global instances from\n",
        "                if j == m:\n",
        "                    hash_table[i][j] = i\n",
        "                else:\n",
        "                    instance_hash_counts = {}\n",
        "                    for k in range(len(counters[j])):   #Select instance k in other parties\n",
        "                        instance_hash_counts[k] = 0\n",
        "                        for value in counters[m][i].keys():  #Iterate through hash values of x_i^m\n",
        "                            if counters[j][k][value] != 0:\n",
        "                                instance_hash_counts[k] += min(counters[j][k][value], counters[m][i][value])\n",
        "                    hash_table[i][j] = max(instance_hash_counts, key=instance_hash_counts.get)\n",
        "        hash_tables.append(hash_table)\n",
        "        \n",
        "    if hash_output:\n",
        "        print(\"\\nHash tables:\\n\")\n",
        "        print(hash_tables)\n",
        "        print(\"\\nLength of hash tables:\", len(hash_tables))\n",
        "    \n",
        "    return hash_tables\n",
        "\n"
      ],
      "execution_count": 6,
      "outputs": []
    },
    {
      "cell_type": "markdown",
      "metadata": {
        "id": "gm3tdwMjtNxK",
        "colab_type": "text"
      },
      "source": [
        "### Accuracy loss comparisons for one dataset"
      ]
    },
    {
      "cell_type": "code",
      "metadata": {
        "id": "PxKYagXQrjkK",
        "colab_type": "code",
        "colab": {}
      },
      "source": [
        "# Returns accuracy loss of model trained on n federated \n",
        "# datasets using SimFL, ALL-IN, and SOLO (avg'd across the datasets).\n",
        "# params = parameters for XGBoost\n",
        "\n",
        "def accuracy_losses(X, y, params = {'max_depth': 8}, num_parties = 3, L = None, hash_output = False, verbose = False):\n",
        "\n",
        "    print('Start\\n')\n",
        "    if verbose: print('XGBoost parameters: ', params, '; Number of Parties: ', num_parties)\n",
        "    \n",
        "    # Randomizing X, y, and separating train/test sets randomly\n",
        "    # The two lines below are equivalent but may differ due to rounding depending on size of dataset\n",
        "    holdout_X, X, holdout_y, y = train_test_split(X, y, train_size=0.25, random_state=42)\n",
        "    #X, holdout_X, y, holdout_y = train_test_split(X, y, test_size=0.25, random_state=42)\n",
        "\n",
        "    vectors=[]\n",
        "    # print(\"Original number of data points: \", len(X))\n",
        "\n",
        "    for j in range(0, int(len(X)), int(len(X)/num_parties)):\n",
        "        partyX = []\n",
        "        partyY = []\n",
        "        for i in range(j, min(j+int(len(X)/num_parties), int(len(X)))):\n",
        "            partyX.append(X[i])\n",
        "            partyY.append(y[i])\n",
        "        vectors.append((partyX, partyY))\n",
        "\n",
        "    hash_tables = hash(vectors, X, y, L, hash_output, verbose)\n",
        "\n",
        "    num_parties = len(vectors)\n",
        "    if verbose: print(\"Data points per party: \", len(vectors[0][0]))\n",
        "\n",
        "    xgb_parties = []\n",
        "    for party in vectors:\n",
        "        xgb_parties.append(xgb.DMatrix(np.asarray(party[0]), label=np.asarray(party[1])))\n",
        "    \n",
        "    model = xgb.Booster(params, [xgb_parties[0]])\n",
        "\n",
        "    G = []\n",
        "    H = []\n",
        "    for i in range(len(vectors)):\n",
        "        G.append([])\n",
        "        H.append([])\n",
        "    \n",
        "    for m in tqdm(range(2*len(vectors)), disable = not verbose): #Select central processing party that receives gradients from others\n",
        "        m_ind = m % len(vectors)\n",
        "        for i in range(len(vectors)): \n",
        "            if i != m_ind:\n",
        "                Gi = np.zeros((len(vectors), len(vectors[m_ind][0])))\n",
        "                Hi = np.zeros((len(vectors), len(vectors[m_ind][0])))\n",
        "                for q in range(len(vectors[i][0])):\n",
        "                    s = int(hash_tables[i][q][m_ind])\n",
        "                    dtrain = xgb.DMatrix(np.asarray([vectors[i][0][q]]), label=np.asarray([vectors[i][1][q]]))\n",
        "                    dpred_inst = model.predict(dtrain)\n",
        "                    grad, hess = cust_obj(dpred_inst, dtrain)\n",
        "                    Gi[m_ind][s] += grad\n",
        "                    Hi[m_ind][s] += hess\n",
        "                G[i] = Gi\n",
        "                H[i] = Hi\n",
        "        Gm = np.zeros((len(vectors), len(vectors[m_ind][0])))\n",
        "        Hm = np.zeros((len(vectors), len(vectors[m_ind][0])))\n",
        "        for q in range(len(vectors[m_ind][0])):\n",
        "            for i in range(len(vectors)):\n",
        "                if i == m_ind:\n",
        "                    dtrain = xgb.DMatrix(np.asarray([vectors[m_ind][0][q]]), label=np.asarray([vectors[m_ind][1][q]]))\n",
        "                    dpred_inst = model.predict(dtrain)\n",
        "                    grad, hess = cust_obj(dpred_inst, dtrain)\n",
        "                    Gm[m_ind][q] += grad\n",
        "                    Hm[m_ind][q] += hess\n",
        "                else:\n",
        "                    Gm[m_ind][q] += G[i][m_ind][q]\n",
        "                    Hm[m_ind][q] += H[i][m_ind][q]\n",
        "        G[m_ind] = Gm\n",
        "        H[m_ind] = Hm\n",
        "        \n",
        "        m_dtrain = xgb_parties[m_ind]\n",
        "        model.boost(m_dtrain, Gm[m_ind], Hm[m_ind])\n",
        "    \n",
        "    # SimFL: federated data sets\n",
        "    dtest = xgb.DMatrix(np.asarray(holdout_X[:int(len(holdout_X))]), label=np.asarray(holdout_y[:int(len(holdout_y))]))\n",
        "    test_preds = model.predict(dtest)\n",
        "    test_preds = sigmoid(test_preds)\n",
        "    test_preds_labels = np.round(test_preds)\n",
        "    simfl_conf = confusion_matrix(holdout_y[:int(len(holdout_y))], test_preds_labels)\n",
        "    if verbose: print(\"\\nSimFL confusion matrix:\\n\", simfl_conf)\n",
        "\n",
        "\n",
        "    # ALL: Using all data, not federated\n",
        "    dtrainAll = xgb.DMatrix(np.asarray(X[:int(len(X))]), label=np.asarray(y[:int(len(y))]))\n",
        "    paramsAll = params\n",
        "    modelAll = xgb.Booster(params, [dtrainAll])\n",
        "    for i in tqdm(range(20), disable = not verbose):\n",
        "        predictions = modelAll.predict(dtrainAll)\n",
        "        g,h = cust_obj(predictions, dtrainAll)\n",
        "        modelAll.boost(dtrainAll,g,h)\n",
        "    test_preds_all = modelAll.predict(dtest)\n",
        "    test_preds_all = sigmoid(test_preds_all)\n",
        "    test_preds_labels_all = np.round(test_preds_all)\n",
        "    all_conf = confusion_matrix(holdout_y[:int(len(holdout_y))], test_preds_labels_all)\n",
        "    if verbose: print(\"\\nALL confusion matrix:\\n\", all_conf)\n",
        "\n",
        "    # SOLO: Using data only from one party\n",
        "    conf_solo = []\n",
        "    for i in range(len(vectors)):\n",
        "        param_solo = params\n",
        "        model_solo = xgb.Booster(param_solo, [xgb_parties[i]])\n",
        "        dtrain = xgb_parties[i]\n",
        "        for m in (range(2*(len(vectors)))):\n",
        "            predictions = model_solo.predict(dtrain)\n",
        "            g,h = cust_obj(predictions, dtrain)\n",
        "            model_solo.boost(dtrain, g,h)\n",
        "        test_preds_solo = model_solo.predict(dtest)\n",
        "        test_preds_solo = sigmoid(test_preds_solo)\n",
        "        test_labels_solo  = np.round(test_preds_solo)\n",
        "        conf_solo.append(confusion_matrix(holdout_y, test_labels_solo))\n",
        "    if verbose: print(\"\\nSOLO confusion matrix:\\n\", conf_solo)\n",
        "\n",
        "    # \"Naive\" federated learning: pass one model around\n",
        "    '''nfl_confs = []\n",
        "\n",
        "    for i in range(1,len(vectors)+1):\n",
        "        param_indiv = params\n",
        "        model_indiv = xgb.Booster(param_indiv, [xgb_parties[i-1]])\n",
        "        for m in (range(i, 2*(len(vectors))+i)):\n",
        "            m_ind = m%(len(vectors))\n",
        "            dtrain = xgb_parties[m_ind]\n",
        "            predictions = model_indiv.predict(dtrain)\n",
        "            g,h = cust_obj(predictions, dtrain)\n",
        "            model_indiv.boost(dtrain, g,h)\n",
        "        test_preds_indiv = model_indiv.predict(dtest)\n",
        "        test_preds_indiv = sigmoid(test_preds_indiv)\n",
        "        test_labels_indiv  = np.round(test_preds_indiv)\n",
        "        nfl_confs.append(confusion_matrix(holdout_y, test_labels_indiv))'''\n",
        "\n",
        "    # Calculate accuracy loss and false negative/positive rates for SimFL, ALL, and (avg.) SOLO\n",
        "\n",
        "    tn, fp, fn, tp = simfl_conf.ravel()\n",
        "    simfl_errors = (fn+fp)/(tn+fp+fn+tp) \n",
        "    simfl_fnr = fn / (tp+fn)\n",
        "    simfl_fpr = fp / (tn+fp)\n",
        "\n",
        "    tn, fp, fn, tp = all_conf.ravel()\n",
        "    all_errors = (fn+fp)/(tn+fp+fn+tp) \n",
        "    all_fnr = fn / (tp+fn)\n",
        "    all_fpr = fp / (tn+fp)\n",
        "    \n",
        "    solo_errors = []\n",
        "    solo_fnrs = []\n",
        "    solo_fprs = []\n",
        "    for conf_mat in conf_solo:\n",
        "        tn, fp, fn, tp = conf_mat.ravel()\n",
        "        err = (fn+fp)/(tn+fp+fn+tp) \n",
        "        fnr = fn / (tp+fn)\n",
        "        fpr = fp / (tn+fp)\n",
        "        solo_errors.append(err)\n",
        "        solo_fprs.append(fpr)\n",
        "        solo_fnrs.append(fnr)\n",
        "    solo_err = sum(solo_errors)/len(solo_errors)\n",
        "    solo_fnr = sum(solo_fnrs)/len(solo_fnrs)\n",
        "    solo_fpr = sum(solo_fprs)/len(solo_fprs)\n",
        "\n",
        "    '''\n",
        "    # Naive federated learning errors\n",
        "    nfl_errors = []\n",
        "    for conf_mat in nfl_confs:\n",
        "        err = (conf_mat[0][1] + conf_mat[1][0])/(conf_mat[0][1] + conf_mat[1][0] + conf_mat[1][1] + conf_mat[0][0])\n",
        "        nfl_errors.append(err)\n",
        "    nfl_err = sum(nfl_errors)/len(nfl_errors)'''\n",
        "\n",
        "\n",
        "    return [[simfl_errors, all_errors, solo_err], [simfl_fnr,all_fnr,solo_fnr], [simfl_fpr,all_fpr,solo_fpr]]"
      ],
      "execution_count": 7,
      "outputs": []
    },
    {
      "cell_type": "code",
      "metadata": {
        "id": "C3awL26nFeST",
        "colab_type": "code",
        "colab": {}
      },
      "source": [
        "def vfl(params, xgb_parties, dtest, holdout_y, vectors):\n",
        "    # Voting federated learning (vfl): ensemble where each party's model has equal weight\n",
        "    vfl_confs = []\n",
        "    test_labels = []\n",
        "\n",
        "    for i in range(len(vectors)):\n",
        "        param_solo = params\n",
        "        model_solo = xgb.Booster(param_solo, [xgb_parties[i]])\n",
        "        dtrain = xgb_parties[i]\n",
        "        for m in (range(2*(len(vectors)))):\n",
        "            predictions = model_solo.predict(dtrain)\n",
        "            g,h = cust_obj(predictions, dtrain)\n",
        "            model_solo.boost(dtrain, g, h)\n",
        "        test_preds_solo = model_solo.predict(dtest)\n",
        "        test_preds_solo = sigmoid(test_preds_solo)\n",
        "        test_labels_solo  = np.round(test_preds_solo)\n",
        "        test_labels.append(test_labels_solo)\n",
        "    \n",
        "    test_labels = np.array(test_labels)\n",
        "    test_labels = np.average(test_labels, axis = 0)\n",
        "    test_labels = np.round(test_labels)\n",
        "    \n",
        "    return confusion_matrix(holdout_y, test_labels)"
      ],
      "execution_count": 9,
      "outputs": []
    },
    {
      "cell_type": "code",
      "metadata": {
        "id": "ArqPvO-_W5z5",
        "colab_type": "code",
        "colab": {}
      },
      "source": [
        "#test vfl\n",
        "def vfl_test(X, y, params = {'max_depth': 8}, num_parties = 3, L = None, hash_output = False, verbose = False):\n",
        "\n",
        "    print('Start\\n')\n",
        "    if verbose: print('XGBoost parameters: ', params, '; Number of Parties: ', num_parties)\n",
        "    \n",
        "    # Randomizing X, y, and separating train/test sets randomly\n",
        "    # holdout_X, X, holdout_y, y = train_test_split(X, y, train_size=0.25, random_state=42)\n",
        "\n",
        "    X, holdout_X, y, holdout_y = train_test_split(X, y, test_size=0.25, random_state=42)\n",
        "\n",
        "    vectors=[]\n",
        "    # print(\"Original number of data points: \", len(X))\n",
        "\n",
        "    for j in range(0, int(len(X)), int(len(X)/num_parties)):\n",
        "        partyX = []\n",
        "        partyY = []\n",
        "        for i in range(j, min(j+int(len(X)/num_parties), int(len(X)))):\n",
        "            partyX.append(X[i])\n",
        "            partyY.append(y[i])\n",
        "        vectors.append((partyX, partyY))\n",
        "\n",
        "    num_parties = len(vectors)\n",
        "    if verbose: print(\"Data points per party: \", len(vectors[0][0]))\n",
        "\n",
        "    xgb_parties = []\n",
        "    for party in vectors:\n",
        "        xgb_parties.append(xgb.DMatrix(np.asarray(party[0]), label=np.asarray(party[1])))\n",
        "\n",
        "    dtest = xgb.DMatrix(np.asarray(holdout_X[:int(len(holdout_X))]), label=np.asarray(holdout_y[:int(len(holdout_y))]))\n",
        "\n",
        "    vfl_conf = vfl(params, xgb_parties, dtest, holdout_y, vectors)\n",
        "    tn, fp, fn, tp = vfl_conf.ravel()\n",
        "    return (tn+tp)/(tn+fp+fn+tp) "
      ],
      "execution_count": 10,
      "outputs": []
    },
    {
      "cell_type": "code",
      "metadata": {
        "id": "5iZPjAI4XYeK",
        "colab_type": "code",
        "colab": {
          "base_uri": "https://localhost:8080/",
          "height": 51
        },
        "outputId": "89a24780-6287-4d1b-bbfa-f3bb0b2247db"
      },
      "source": [
        "A = vfl_test(X,y)"
      ],
      "execution_count": 11,
      "outputs": [
        {
          "output_type": "stream",
          "text": [
            "Start\n",
            "\n"
          ],
          "name": "stdout"
        }
      ]
    },
    {
      "cell_type": "code",
      "metadata": {
        "id": "If79C-uOX8S9",
        "colab_type": "code",
        "colab": {
          "base_uri": "https://localhost:8080/",
          "height": 34
        },
        "outputId": "5dc2e2f5-97ed-4bd1-850d-b5ea5b80c859"
      },
      "source": [
        "A"
      ],
      "execution_count": 12,
      "outputs": [
        {
          "output_type": "execute_result",
          "data": {
            "text/plain": [
              "0.9460431654676259"
            ]
          },
          "metadata": {
            "tags": []
          },
          "execution_count": 12
        }
      ]
    },
    {
      "cell_type": "markdown",
      "metadata": {
        "id": "o2kI9HJatm_A",
        "colab_type": "text"
      },
      "source": [
        "### Single test run"
      ]
    },
    {
      "cell_type": "code",
      "metadata": {
        "id": "2ktHFW1ZP0CL",
        "colab_type": "code",
        "colab": {
          "base_uri": "https://localhost:8080/",
          "height": 530
        },
        "outputId": "32edb7de-03a2-4484-b6b9-114b3d3d7101"
      },
      "source": [
        "parameters = {'max_depth': 8, 'n_estimators': 100, 'colsample_bytree': 0.8, 'subsample': 0.8, 'nthread': 10, 'learning_rate': 0.1}\n",
        "errors = accuracy_losses(X, y, params = parameters, num_parties = 3, L = None, hash_output = False, verbose = True)"
      ],
      "execution_count": 13,
      "outputs": [
        {
          "output_type": "stream",
          "text": [
            "Start\n",
            "\n",
            "XGBoost parameters:  {'max_depth': 8, 'n_estimators': 100, 'colsample_bytree': 0.8, 'subsample': 0.8, 'nthread': 10, 'learning_rate': 0.1} ; Number of Parties:  3\n"
          ],
          "name": "stdout"
        },
        {
          "output_type": "stream",
          "text": [
            "\r  0%|          | 0/4 [00:00<?, ?it/s]"
          ],
          "name": "stderr"
        },
        {
          "output_type": "stream",
          "text": [
            "\n",
            "Building hash tables:\n",
            "\n",
            "0\n"
          ],
          "name": "stdout"
        },
        {
          "output_type": "stream",
          "text": [
            "\r 25%|██▌       | 1/4 [00:09<00:28,  9.55s/it]"
          ],
          "name": "stderr"
        },
        {
          "output_type": "stream",
          "text": [
            "1\n"
          ],
          "name": "stdout"
        },
        {
          "output_type": "stream",
          "text": [
            "\r 50%|█████     | 2/4 [00:19<00:19,  9.55s/it]"
          ],
          "name": "stderr"
        },
        {
          "output_type": "stream",
          "text": [
            "2\n"
          ],
          "name": "stdout"
        },
        {
          "output_type": "stream",
          "text": [
            "100%|██████████| 4/4 [00:28<00:00,  7.14s/it]\n",
            "  0%|          | 0/8 [00:00<?, ?it/s]"
          ],
          "name": "stderr"
        },
        {
          "output_type": "stream",
          "text": [
            "3\n",
            "Data points per party:  833\n"
          ],
          "name": "stdout"
        },
        {
          "output_type": "stream",
          "text": [
            "100%|██████████| 8/8 [00:06<00:00,  1.17it/s]\n",
            "100%|██████████| 20/20 [00:00<00:00, 127.62it/s]\n"
          ],
          "name": "stderr"
        },
        {
          "output_type": "stream",
          "text": [
            "\n",
            "SimFL confusion matrix:\n",
            " [[706   3]\n",
            " [ 87  37]]\n",
            "\n",
            "ALL confusion matrix:\n",
            " [[703   6]\n",
            " [ 25  99]]\n",
            "\n",
            "SOLO confusion matrix:\n",
            " [array([[688,  21],\n",
            "       [ 29,  95]]), array([[693,  16],\n",
            "       [ 27,  97]]), array([[688,  21],\n",
            "       [ 54,  70]]), array([[  0, 709],\n",
            "       [  0, 124]])]\n"
          ],
          "name": "stdout"
        }
      ]
    },
    {
      "cell_type": "code",
      "metadata": {
        "id": "DjSRsPeLtNjL",
        "colab_type": "code",
        "colab": {
          "base_uri": "https://localhost:8080/",
          "height": 54
        },
        "outputId": "26a8a6ea-fb1b-4003-c8b8-bdf33db29965"
      },
      "source": [
        "print(errors)"
      ],
      "execution_count": 14,
      "outputs": [
        {
          "output_type": "stream",
          "text": [
            "[[0.10804321728691477, 0.03721488595438175, 0.26320528211284516], [0.7016129032258065, 0.20161290322580644, 0.2217741935483871], [0.004231311706629055, 0.00846262341325811, 0.2704513399153738]]\n"
          ],
          "name": "stdout"
        }
      ]
    },
    {
      "cell_type": "code",
      "metadata": {
        "id": "PG9Z6WF-tHkF",
        "colab_type": "code",
        "colab": {
          "base_uri": "https://localhost:8080/",
          "height": 68
        },
        "outputId": "0c00c8cf-a455-495a-f6db-332c323d6ae4"
      },
      "source": [
        "print(\"SimFL accuracy loss:\", errors[0][0], \"\\nALL accuracy loss:\", errors[0][1], \"\\nSOLO accuracy loss:\", errors[0][2])"
      ],
      "execution_count": 16,
      "outputs": [
        {
          "output_type": "stream",
          "text": [
            "SimFL accuracy loss: 0.10804321728691477 \n",
            "ALL accuracy loss: 0.03721488595438175 \n",
            "SOLO accuracy loss: 0.26320528211284516\n"
          ],
          "name": "stdout"
        }
      ]
    },
    {
      "cell_type": "markdown",
      "metadata": {
        "id": "Fo2BiaOFnhEp",
        "colab_type": "text"
      },
      "source": [
        "### Hyperparameter evaluation functions"
      ]
    },
    {
      "cell_type": "code",
      "metadata": {
        "id": "L4cLqbNdrOqs",
        "colab_type": "code",
        "colab": {}
      },
      "source": [
        "# Returns a list of accuracy losses and false negative/positive rates for a given tuning range for one XGBoost hyperparameter\n",
        "def tune_param(X, y, parameter, tune_range, default_params, num_parties = 3, L = None): \n",
        "    acc_losses = []\n",
        "    fnrs = []\n",
        "    fprs = []\n",
        "\n",
        "    for i in tune_range:\n",
        "        default_params[parameter] = i # parameter = 'max_depth' for example\n",
        "        errors = accuracy_losses(X, y, params = default_params, num_parties = num_parties, L = L, hash_output = False, verbose = False)\n",
        "        acc_losses.append(errors[0])\n",
        "        fnrs.append(errors[1])\n",
        "        fprs.append(errors[2])\n",
        "    \n",
        "    return acc_losses,fnrs,fprs\n",
        "\n",
        "# See below for usage example\n",
        "def plot_fnr(results, tune_range, parameter):\n",
        "    # Plot results\n",
        "    toplot = np.array(results)\n",
        "    toplot = toplot.transpose()\n",
        "\n",
        "    x = tune_range\n",
        "\n",
        "    fig, ax = plt.subplots() #figsize=(8, 5)\n",
        "    # fig.subplots_adjust(bottom=0.15, left=0.2)\n",
        "    ax.plot(x, toplot[0], 'ro', label = 'SimFL')\n",
        "    ax.plot(x, toplot[1], 'bs', label = 'ALL')\n",
        "    ax.plot(x, toplot[2], 'g^', label = 'SOLO (avg)')\n",
        "    ax.set_xlabel(parameter)\n",
        "    ax.set_ylabel('false negative rate')\n",
        "    ax.set_title(parameter + ' effect on FNR')\n",
        "\n",
        "    ax.legend(bbox_to_anchor=(1.05, 1), loc='upper left', borderaxespad=0.)\n",
        "\n",
        "    plt.show()\n",
        "\n",
        "def plot_fpr(results, tune_range, parameter):\n",
        "    # Plot results\n",
        "    toplot = np.array(results)\n",
        "    toplot = toplot.transpose()\n",
        "\n",
        "    x = tune_range\n",
        "\n",
        "    fig, ax = plt.subplots() #figsize=(8, 5)\n",
        "    # fig.subplots_adjust(bottom=0.15, left=0.2)\n",
        "    ax.plot(x, toplot[0], 'ro', label = 'SimFL')\n",
        "    ax.plot(x, toplot[1], 'bs', label = 'ALL')\n",
        "    ax.plot(x, toplot[2], 'g^', label = 'SOLO (avg)')\n",
        "    ax.set_xlabel(parameter)\n",
        "    ax.set_ylabel('false positive rate')\n",
        "    ax.set_title(parameter + ' effect on FPR')\n",
        "\n",
        "    ax.legend(bbox_to_anchor=(1.05, 1), loc='upper left', borderaxespad=0.)\n",
        "\n",
        "    plt.show()\n",
        "\n",
        "def plot_tuning(results, tune_range, parameter):\n",
        "    # Plot results\n",
        "    toplot = np.array(results)\n",
        "    toplot = toplot.transpose()\n",
        "\n",
        "    x = tune_range\n",
        "\n",
        "    fig, ax = plt.subplots() #figsize=(8, 5)\n",
        "    # fig.subplots_adjust(bottom=0.15, left=0.2)\n",
        "    ax.plot(x, toplot[0], 'ro', label = 'SimFL')\n",
        "    ax.plot(x, toplot[1], 'bs', label = 'ALL')\n",
        "    ax.plot(x, toplot[2], 'g^', label = 'SOLO (avg)')\n",
        "    ax.set_xlabel(parameter)\n",
        "    ax.set_ylabel('accuracy loss')\n",
        "    ax.set_title(parameter + ' effect on accuracy loss')\n",
        "\n",
        "    ax.legend(bbox_to_anchor=(1.05, 1), loc='upper left', borderaxespad=0.)\n",
        "\n",
        "    plt.show()"
      ],
      "execution_count": 17,
      "outputs": []
    },
    {
      "cell_type": "markdown",
      "metadata": {
        "id": "eMqgY-IMt5Qf",
        "colab_type": "text"
      },
      "source": [
        "### Hyperparameter evaluation/results"
      ]
    },
    {
      "cell_type": "code",
      "metadata": {
        "id": "1UBGZY5ftAut",
        "colab_type": "code",
        "colab": {
          "base_uri": "https://localhost:8080/",
          "height": 636
        },
        "outputId": "7e0da6e1-5847-40e9-f1b8-a81eb2d5b8d9"
      },
      "source": [
        "# Max depth\n",
        "parameter = 'max_depth'\n",
        "tune_range = np.arange(3, 13, 1)\n",
        "\n",
        "params = {'max_depth': 8, 'n_estimators': 100, 'colsample_bytree': 0.8, 'subsample': 0.8, 'nthread': 10, 'learning_rate': 0.1}\n",
        "max_depth_tune = tune_param(X, y, parameter, tune_range, params, num_parties = 3, L = None)\n",
        "plot_tuning(max_depth_tune[0], tune_range,parameter)"
      ],
      "execution_count": null,
      "outputs": [
        {
          "output_type": "stream",
          "text": [
            "Start\n",
            "\n",
            "Start\n",
            "\n",
            "Start\n",
            "\n",
            "Start\n",
            "\n",
            "Start\n",
            "\n",
            "Start\n",
            "\n",
            "Start\n",
            "\n",
            "Start\n",
            "\n",
            "Start\n",
            "\n",
            "Start\n",
            "\n"
          ],
          "name": "stdout"
        },
        {
          "output_type": "display_data",
          "data": {
            "image/png": "[encoded data removed]",
            "text/plain": [
              "<Figure size 432x288 with 1 Axes>"
            ]
          },
          "metadata": {
            "tags": [],
            "needs_background": "light"
          }
        }
      ]
    },
    {
      "cell_type": "code",
      "metadata": {
        "id": "iRc5N4RdzXuT",
        "colab_type": "code",
        "colab": {
          "base_uri": "https://localhost:8080/",
          "height": 296
        },
        "outputId": "c3338c6f-5e0a-4302-9d2c-8e439a65fd6d"
      },
      "source": [
        "plot_fnr(max_depth_tune[1], tune_range,parameter)"
      ],
      "execution_count": null,
      "outputs": [
        {
          "output_type": "display_data",
          "data": {
            "image/png": "[encoded data removed]",
            "text/plain": [
              "<Figure size 432x288 with 1 Axes>"
            ]
          },
          "metadata": {
            "tags": [],
            "needs_background": "light"
          }
        }
      ]
    },
    {
      "cell_type": "code",
      "metadata": {
        "id": "XD7Aa-SZzcXN",
        "colab_type": "code",
        "colab": {
          "base_uri": "https://localhost:8080/",
          "height": 296
        },
        "outputId": "020f7d91-ec81-4327-c0ed-ab0fbb744e52"
      },
      "source": [
        "plot_fpr(max_depth_tune[2], tune_range,parameter)"
      ],
      "execution_count": null,
      "outputs": [
        {
          "output_type": "display_data",
          "data": {
            "image/png": "[encoded data removed]",
            "text/plain": [
              "<Figure size 432x288 with 1 Axes>"
            ]
          },
          "metadata": {
            "tags": [],
            "needs_background": "light"
          }
        }
      ]
    },
    {
      "cell_type": "code",
      "metadata": {
        "id": "QP0Yl_N2tH1V",
        "colab_type": "code",
        "colab": {
          "base_uri": "https://localhost:8080/",
          "height": 432
        },
        "outputId": "dd4dc4af-7fb8-4a51-e241-d5c7f03d4a86"
      },
      "source": [
        "# Number of estimators\n",
        "parameter = 'n_estimators'\n",
        "tune_range = np.arange(50, 250, 50)\n",
        "\n",
        "params = {'max_depth': 8, 'n_estimators': 100, 'colsample_bytree': 0.8, 'subsample': 0.8, 'nthread': 10, 'learning_rate': 0.1}\n",
        "n_est_tune = tune_param(X, y, parameter, tune_range, params, num_parties = 3, L = None)\n",
        "plot_tuning(n_est_tune[1], tune_range,parameter)"
      ],
      "execution_count": null,
      "outputs": [
        {
          "output_type": "stream",
          "text": [
            "Start\n",
            "\n",
            "Start\n",
            "\n",
            "Start\n",
            "\n",
            "Start\n",
            "\n"
          ],
          "name": "stdout"
        },
        {
          "output_type": "display_data",
          "data": {
            "image/png": "[encoded data removed]",
            "text/plain": [
              "<Figure size 432x288 with 1 Axes>"
            ]
          },
          "metadata": {
            "tags": [],
            "needs_background": "light"
          }
        }
      ]
    },
    {
      "cell_type": "code",
      "metadata": {
        "id": "lvyDz4ASzJMB",
        "colab_type": "code",
        "colab": {
          "base_uri": "https://localhost:8080/",
          "height": 296
        },
        "outputId": "7898170a-f885-4493-dfa8-c6b319326c8d"
      },
      "source": [
        "plot_fnr(n_est_tune[1], tune_range,parameter)"
      ],
      "execution_count": null,
      "outputs": [
        {
          "output_type": "display_data",
          "data": {
            "image/png": "[encoded data removed]",
            "text/plain": [
              "<Figure size 432x288 with 1 Axes>"
            ]
          },
          "metadata": {
            "tags": [],
            "needs_background": "light"
          }
        }
      ]
    },
    {
      "cell_type": "code",
      "metadata": {
        "id": "QzUcVewsyMMS",
        "colab_type": "code",
        "colab": {
          "base_uri": "https://localhost:8080/",
          "height": 296
        },
        "outputId": "ba1fb129-1af7-4590-bf54-b827b7681be3"
      },
      "source": [
        "plot_fpr(n_est_tune[2], tune_range,parameter)"
      ],
      "execution_count": null,
      "outputs": [
        {
          "output_type": "display_data",
          "data": {
            "image/png": "[encoded data removed]",
            "text/plain": [
              "<Figure size 432x288 with 1 Axes>"
            ]
          },
          "metadata": {
            "tags": [],
            "needs_background": "light"
          }
        }
      ]
    },
    {
      "cell_type": "code",
      "metadata": {
        "id": "1U4HW7_Ibl2V",
        "colab_type": "code",
        "colab": {
          "base_uri": "https://localhost:8080/",
          "height": 465
        },
        "outputId": "3458113e-9191-4094-921b-a7ffd472a228"
      },
      "source": [
        "# Subsample\n",
        "parameter = 'subsample'\n",
        "tune_range = np.arange(.6,1.01,.1)\n",
        "\n",
        "params = {'max_depth': 8, 'n_estimators': 100, 'colsample_bytree': 0.8, 'subsample': 0.8, 'nthread': 10, 'learning_rate': 0.1}\n",
        "subsamp_tune = tune_param(X, y, parameter, tune_range, params, num_parties = 3, L = None)\n",
        "plot_tuning(subsamp_tune[0], tune_range, parameter)"
      ],
      "execution_count": null,
      "outputs": [
        {
          "output_type": "stream",
          "text": [
            "Start\n",
            "\n",
            "Start\n",
            "\n",
            "Start\n",
            "\n",
            "Start\n",
            "\n",
            "Start\n",
            "\n"
          ],
          "name": "stdout"
        },
        {
          "output_type": "display_data",
          "data": {
            "image/png": "[encoded data removed]",
            "text/plain": [
              "<Figure size 432x288 with 1 Axes>"
            ]
          },
          "metadata": {
            "tags": [],
            "needs_background": "light"
          }
        }
      ]
    },
    {
      "cell_type": "code",
      "metadata": {
        "id": "qMkYoD8oziQc",
        "colab_type": "code",
        "colab": {
          "base_uri": "https://localhost:8080/",
          "height": 295
        },
        "outputId": "db455f36-53d2-43ae-d70e-a974296982ae"
      },
      "source": [
        "plot_fnr(subsamp_tune[1], tune_range, parameter)"
      ],
      "execution_count": null,
      "outputs": [
        {
          "output_type": "display_data",
          "data": {
            "image/png": "[encoded data removed]",
            "text/plain": [
              "<Figure size 432x288 with 1 Axes>"
            ]
          },
          "metadata": {
            "tags": [],
            "needs_background": "light"
          }
        }
      ]
    },
    {
      "cell_type": "code",
      "metadata": {
        "id": "rDVZiE8nzldG",
        "colab_type": "code",
        "colab": {
          "base_uri": "https://localhost:8080/",
          "height": 296
        },
        "outputId": "9fabb009-32a5-4928-ac69-7a85f742fc27"
      },
      "source": [
        "plot_fpr(subsamp_tune[2], tune_range, parameter)"
      ],
      "execution_count": null,
      "outputs": [
        {
          "output_type": "display_data",
          "data": {
            "image/png": "[encoded data removed]",
            "text/plain": [
              "<Figure size 432x288 with 1 Axes>"
            ]
          },
          "metadata": {
            "tags": [],
            "needs_background": "light"
          }
        }
      ]
    },
    {
      "cell_type": "code",
      "metadata": {
        "id": "VgZeywZjeat8",
        "colab_type": "code",
        "colab": {
          "base_uri": "https://localhost:8080/",
          "height": 466
        },
        "outputId": "c83b1d7e-20eb-420a-ce7b-3a71db29e50f"
      },
      "source": [
        "# colsample_bytree\n",
        "parameter = 'colsample_bytree'\n",
        "tune_range = np.arange(.6,1.01,.1)\n",
        "\n",
        "params = {'max_depth': 8, 'n_estimators': 100, 'colsample_bytree': 0.8, 'subsample': 0.8, 'nthread': 10, 'learning_rate': 0.1}\n",
        "colsamp_tune = tune_param(X, y, parameter, tune_range, params, num_parties = 3, L = None)\n",
        "plot_tuning(colsamp_tune[0], tune_range, parameter)"
      ],
      "execution_count": null,
      "outputs": [
        {
          "output_type": "stream",
          "text": [
            "Start\n",
            "\n",
            "Start\n",
            "\n",
            "Start\n",
            "\n",
            "Start\n",
            "\n",
            "Start\n",
            "\n"
          ],
          "name": "stdout"
        },
        {
          "output_type": "display_data",
          "data": {
            "image/png": "[encoded data removed]",
            "text/plain": [
              "<Figure size 432x288 with 1 Axes>"
            ]
          },
          "metadata": {
            "tags": [],
            "needs_background": "light"
          }
        }
      ]
    },
    {
      "cell_type": "code",
      "metadata": {
        "id": "8liruQkrzp-F",
        "colab_type": "code",
        "colab": {
          "base_uri": "https://localhost:8080/",
          "height": 296
        },
        "outputId": "fa4430b9-dbc3-49f2-d272-04dfbc9aeee1"
      },
      "source": [
        "plot_fnr(colsamp_tune[1], tune_range, parameter)"
      ],
      "execution_count": null,
      "outputs": [
        {
          "output_type": "display_data",
          "data": {
            "image/png": "[encoded data removed]",
            "text/plain": [
              "<Figure size 432x288 with 1 Axes>"
            ]
          },
          "metadata": {
            "tags": [],
            "needs_background": "light"
          }
        }
      ]
    },
    {
      "cell_type": "code",
      "metadata": {
        "id": "-2Pmmn_czruE",
        "colab_type": "code",
        "colab": {
          "base_uri": "https://localhost:8080/",
          "height": 296
        },
        "outputId": "132d7d57-e7b2-4156-bd62-cee74815644f"
      },
      "source": [
        "plot_fpr(colsamp_tune[2], tune_range, parameter)"
      ],
      "execution_count": null,
      "outputs": [
        {
          "output_type": "display_data",
          "data": {
            "image/png": "[encoded data removed]",
            "text/plain": [
              "<Figure size 432x288 with 1 Axes>"
            ]
          },
          "metadata": {
            "tags": [],
            "needs_background": "light"
          }
        }
      ]
    },
    {
      "cell_type": "code",
      "metadata": {
        "id": "ND67t4LTYJ1h",
        "colab_type": "code",
        "colab": {
          "base_uri": "https://localhost:8080/",
          "height": 105
        },
        "outputId": "29138e74-0d94-45a1-a0a4-fa846d787e9e"
      },
      "source": [
        "print(max_depth_tune)\n",
        "print(n_est_tune)\n",
        "print(subsamp_tune)\n",
        "print(colsamp_tune)"
      ],
      "execution_count": null,
      "outputs": [
        {
          "output_type": "stream",
          "text": [
            "([[0.13925570228091236, 0.06362545018007203, 0.27521008403361347], [0.13565426170468187, 0.03961584633853541, 0.26140456182472993], [0.13445378151260504, 0.04081632653061224, 0.2608043217286915], [0.12484993997599039, 0.03841536614645858, 0.26260504201680673], [0.12004801920768307, 0.03961584633853541, 0.26320528211284516], [0.11764705882352941, 0.03721488595438175, 0.26320528211284516], [0.11884753901560624, 0.03841536614645858, 0.26320528211284516], [0.12484993997599039, 0.04081632653061224, 0.26320528211284516], [0.11284513805522209, 0.04081632653061224, 0.26320528211284516], [0.12364945978391356, 0.04081632653061224, 0.26320528211284516]], [[0.9112903225806451, 0.3870967741935484, 0.3467741935483871], [0.9112903225806451, 0.21774193548387097, 0.25], [0.8709677419354839, 0.21774193548387097, 0.20967741935483872], [0.7903225806451613, 0.20967741935483872, 0.21774193548387094], [0.7741935483870968, 0.21774193548387097, 0.2217741935483871], [0.7741935483870968, 0.20161290322580644, 0.2217741935483871], [0.7661290322580645, 0.20967741935483872, 0.21975806451612903], [0.782258064516129, 0.22580645161290322, 0.21975806451612903], [0.7338709677419355, 0.22580645161290322, 0.21975806451612903], [0.7580645161290323, 0.22580645161290322, 0.21975806451612903]], [[0.004231311706629055, 0.007052186177715092, 0.26269393511988715], [0.0, 0.00846262341325811, 0.26339915373765865], [0.005641748942172073, 0.009873060648801129, 0.2697461212976023], [0.00846262341325811, 0.00846262341325811, 0.2704513399153738], [0.005641748942172073, 0.00846262341325811, 0.2704513399153738], [0.0028208744710860366, 0.00846262341325811, 0.2704513399153738], [0.005641748942172073, 0.00846262341325811, 0.27080394922425954], [0.009873060648801129, 0.00846262341325811, 0.27080394922425954], [0.004231311706629055, 0.00846262341325811, 0.27080394922425954], [0.012693935119887164, 0.00846262341325811, 0.27080394922425954]])\n",
            "([[0.11764705882352941, 0.03721488595438175, 0.26320528211284516], [0.12605042016806722, 0.03721488595438175, 0.26320528211284516], [0.12484993997599039, 0.03721488595438175, 0.26320528211284516], [0.1092436974789916, 0.03721488595438175, 0.26320528211284516]], [[0.7419354838709677, 0.20161290322580644, 0.2217741935483871], [0.8225806451612904, 0.20161290322580644, 0.2217741935483871], [0.8306451612903226, 0.20161290322580644, 0.2217741935483871], [0.717741935483871, 0.20161290322580644, 0.2217741935483871]], [[0.00846262341325811, 0.00846262341325811, 0.2704513399153738], [0.004231311706629055, 0.00846262341325811, 0.2704513399153738], [0.0014104372355430183, 0.00846262341325811, 0.2704513399153738], [0.0028208744710860366, 0.00846262341325811, 0.2704513399153738]])\n",
            "([[0.13805522208883553, 0.04201680672268908, 0.2764105642256903], [0.13205282112845138, 0.04081632653061224, 0.2653061224489796], [0.1056422569027611, 0.03721488595438175, 0.26320528211284516], [0.12004801920768307, 0.04201680672268908, 0.2548019207683073], [0.1368547418967587, 0.03961584633853541, 0.25870348139255706]], [[0.8548387096774194, 0.22580645161290322, 0.2560483870967742], [0.8387096774193549, 0.22580645161290322, 0.22983870967741937], [0.6854838709677419, 0.20161290322580644, 0.2217741935483871], [0.7903225806451613, 0.22580645161290322, 0.18951612903225806], [0.8790322580645161, 0.20967741935483872, 0.19556451612903225]], [[0.012693935119887164, 0.009873060648801129, 0.27997179125528915], [0.00846262341325811, 0.00846262341325811, 0.27150916784203105], [0.004231311706629055, 0.00846262341325811, 0.2704513399153738], [0.0028208744710860366, 0.009873060648801129, 0.2662200282087447], [0.007052186177715092, 0.009873060648801129, 0.2697461212976023]])\n",
            "([[0.12484993997599039, 0.056422569027611044, 0.2647058823529412], [0.11764705882352941, 0.05162064825930372, 0.26380552220888354], [0.10684273709483794, 0.03721488595438175, 0.26320528211284516], [0.11404561824729892, 0.03841536614645858, 0.2578031212484994], [0.11644657863145258, 0.03721488595438175, 0.25570228091236497]], [[0.8225806451612904, 0.3467741935483871, 0.2560483870967742], [0.7338709677419355, 0.2903225806451613, 0.22983870967741934], [0.717741935483871, 0.20161290322580644, 0.2217741935483871], [0.75, 0.21774193548387097, 0.18548387096774194], [0.7661290322580645, 0.21774193548387097, 0.1814516129032258]], [[0.0028208744710860366, 0.005641748942172073, 0.2662200282087447], [0.009873060648801129, 0.009873060648801129, 0.2697461212976023], [0.0, 0.00846262341325811, 0.2704513399153738], [0.0028208744710860366, 0.007052186177715092, 0.2704513399153738], [0.0028208744710860366, 0.005641748942172073, 0.268688293370945]])\n"
          ],
          "name": "stdout"
        }
      ]
    },
    {
      "cell_type": "markdown",
      "metadata": {
        "id": "LKD6xLZJvY2A",
        "colab_type": "text"
      },
      "source": [
        "### SHAP Column Demo on SimFL\n",
        "\n",
        "The goal of this code section is to create a SHAP column explainer that describes the top *b* contributors (i.e. a list of features) to each prediction. "
      ]
    },
    {
      "cell_type": "code",
      "metadata": {
        "id": "8AKI--LZ4_-1",
        "colab_type": "code",
        "colab": {
          "base_uri": "https://localhost:8080/",
          "height": 343
        },
        "outputId": "294566d8-d356-45a8-aec9-1cb425a22f51"
      },
      "source": [
        "pip install shap"
      ],
      "execution_count": null,
      "outputs": [
        {
          "output_type": "stream",
          "text": [
            "Collecting shap\n",
            "  Using cached https://files.pythonhosted.org/packages/a8/77/b504e43e21a2ba543a1ac4696718beb500cfa708af2fb57cb54ce299045c/shap-0.35.0.tar.gz\n",
            "Requirement already satisfied: numpy in /usr/local/lib/python3.6/dist-packages (from shap) (1.18.5)\n",
            "Requirement already satisfied: scipy in /usr/local/lib/python3.6/dist-packages (from shap) (1.4.1)\n",
            "Requirement already satisfied: scikit-learn in /usr/local/lib/python3.6/dist-packages (from shap) (0.22.2.post1)\n",
            "Requirement already satisfied: pandas in /usr/local/lib/python3.6/dist-packages (from shap) (1.0.5)\n",
            "Requirement already satisfied: tqdm>4.25.0 in /usr/local/lib/python3.6/dist-packages (from shap) (4.41.1)\n",
            "Requirement already satisfied: joblib>=0.11 in /usr/local/lib/python3.6/dist-packages (from scikit-learn->shap) (0.16.0)\n",
            "Requirement already satisfied: pytz>=2017.2 in /usr/local/lib/python3.6/dist-packages (from pandas->shap) (2018.9)\n",
            "Requirement already satisfied: python-dateutil>=2.6.1 in /usr/local/lib/python3.6/dist-packages (from pandas->shap) (2.8.1)\n",
            "Requirement already satisfied: six>=1.5 in /usr/local/lib/python3.6/dist-packages (from python-dateutil>=2.6.1->pandas->shap) (1.15.0)\n",
            "Building wheels for collected packages: shap\n",
            "  Building wheel for shap (setup.py) ... \u001b[?25l\u001b[?25hdone\n",
            "  Created wheel for shap: filename=shap-0.35.0-cp36-cp36m-linux_x86_64.whl size=394119 sha256=e36880b6effe0b23ae67a7d578c970a88abe5fc9d51cca8fdd77b0af5aef9d6d\n",
            "  Stored in directory: /root/.cache/pip/wheels/e7/f7/0f/b57055080cf8894906b3bd3616d2fc2bfd0b12d5161bcb24ac\n",
            "Successfully built shap\n",
            "Installing collected packages: shap\n",
            "Successfully installed shap-0.35.0\n"
          ],
          "name": "stdout"
        }
      ]
    },
    {
      "cell_type": "code",
      "metadata": {
        "id": "IFwj4rTIvcj1",
        "colab_type": "code",
        "colab": {}
      },
      "source": [
        "import shap"
      ],
      "execution_count": null,
      "outputs": []
    },
    {
      "cell_type": "code",
      "metadata": {
        "id": "kckNzvT7UDpm",
        "colab_type": "code",
        "colab": {}
      },
      "source": [
        "# returns an array of predicted examples, their predicted labels, pre-rounded predictions, and SHAP explanation\n",
        "def shap_output(model, X, features, predictions, labels, b = 3, numeric = True): \n",
        "    shap_vals = get_shap_vals(model, X) \n",
        "    col = shap_col(shap_vals, features, b, numeric) \n",
        "\n",
        "    fields = features\n",
        "    fields.append('Predicted Label (churn = 1)') # Label = prediction rounded to 0 or 1\n",
        "    fields.append('Pre-rounded prediction') # Can think of as (sigmoid of) probability of churning\n",
        "    fields.append('Prediction explanation (SHAP)') \n",
        "    \n",
        "    rows = np.hstack((np.array(X), np.array([labels]).T, np.array([predictions]).T, np.array([col]).T))\n",
        "\n",
        "    return list(np.vstack((np.array(fields), rows)))\n",
        "\n",
        "def get_shap_vals(model, X):\n",
        "    explainer = shap.TreeExplainer(model)\n",
        "    shap_vals = explainer.shap_values(X) \n",
        "    return shap_vals\n",
        "\n",
        "# Given an n-by-m array of SHAP values, \n",
        "# returns a column of descriptions. \n",
        "# The ith entry of the last column describes the top b features that contribute\n",
        "# to the prediction for the ith example. \n",
        "def shap_col(shap_values, features, b = 3, numeric = True): \n",
        "    if b > len(shap_values[0]): b = len(shap_values[0])\n",
        "    col = []\n",
        "    fts = features\n",
        "    fts = np.array(fts)\n",
        "    for row in shap_values:\n",
        "        inds = np.argsort(-np.absolute(np.array(row)))\n",
        "        inds = inds[:b]\n",
        "        top_fts = list(fts[inds])\n",
        "        top_fts_vals = list(np.array(row)[inds])\n",
        "\n",
        "        describe = 'The top ' + str(b) + ' feature(s) contributing to this prediction are: '\n",
        "        for i in range(b):\n",
        "            feat = top_fts[i]\n",
        "            describe = describe + feat\n",
        "\n",
        "            # numeric option returns SHAP values of top contributing features\n",
        "            if numeric == True:\n",
        "                val = top_fts_vals[i]\n",
        "                describe = describe + ' (' + str(val) + ')'\n",
        "            \n",
        "            if i != b-1: describe = describe + '; '\n",
        "        \n",
        "        col.append(describe)\n",
        "    \n",
        "    return col\n"
      ],
      "execution_count": null,
      "outputs": []
    },
    {
      "cell_type": "code",
      "metadata": {
        "id": "3WXv5bLI_SIm",
        "colab_type": "code",
        "colab": {}
      },
      "source": [
        "# Demo of SHAP column for SimFL\n",
        "def shap_demo(X, y, features, params = {'max_depth': 8}, num_parties = 3, L = None, hash_output = False, verbose = False):\n",
        "\n",
        "    # print('Start\\n')\n",
        "    if verbose: print('XGBoost parameters: ', params, '; Number of Parties: ', num_parties)\n",
        "    \n",
        "    # Randomizing X, y and separating train/test sets randomly\n",
        "    holdout_X, X, holdout_y, y = train_test_split(X, y, train_size=0.001, random_state=42)\n",
        "\n",
        "    vectors=[]\n",
        "    # print(\"Original number of data points: \", len(X))\n",
        "\n",
        "    for j in range(0, int(len(X)), int(len(X)/num_parties)):\n",
        "        partyX = []\n",
        "        partyY = []\n",
        "        for i in range(j, min(j+int(len(X)/num_parties), int(len(X)))):\n",
        "            partyX.append(X[i])\n",
        "            partyY.append(y[i])\n",
        "        vectors.append((partyX, partyY))\n",
        "\n",
        "    hash_tables = hash(vectors, X, y, L, hash_output, verbose)\n",
        "\n",
        "    num_parties = len(vectors)\n",
        "    if verbose: print(\"Data points per party: \", len(vectors[0][0]))\n",
        "\n",
        "    xgb_parties = []\n",
        "    for party in vectors:\n",
        "        xgb_parties.append(xgb.DMatrix(np.asarray(party[0]), label=np.asarray(party[1])))\n",
        "    \n",
        "    model = xgb.Booster(params, [xgb_parties[0]])\n",
        "\n",
        "    G = []\n",
        "    H = []\n",
        "    for i in range(len(vectors)):\n",
        "        G.append([])\n",
        "        H.append([])\n",
        "    \n",
        "    for m in tqdm(range(2*len(vectors)), disable = not verbose): #Select central processing party that receives gradients from others\n",
        "        m_ind = m % len(vectors)\n",
        "        for i in range(len(vectors)): \n",
        "            if i != m_ind:\n",
        "                Gi = np.zeros((len(vectors), len(vectors[m_ind][0])))\n",
        "                Hi = np.zeros((len(vectors), len(vectors[m_ind][0])))\n",
        "                for q in range(len(vectors[i][0])):\n",
        "                    s = int(hash_tables[i][q][m_ind])\n",
        "                    dtrain = xgb.DMatrix(np.asarray([vectors[i][0][q]]), label=np.asarray([vectors[i][1][q]]))\n",
        "                    dpred_inst = model.predict(dtrain)\n",
        "                    grad, hess = cust_obj(dpred_inst, dtrain)\n",
        "                    Gi[m_ind][s] += grad\n",
        "                    Hi[m_ind][s] += hess\n",
        "                G[i] = Gi\n",
        "                H[i] = Hi\n",
        "        Gm = np.zeros((len(vectors), len(vectors[m_ind][0])))\n",
        "        Hm = np.zeros((len(vectors), len(vectors[m_ind][0])))\n",
        "        for q in range(len(vectors[m_ind][0])):\n",
        "            for i in range(len(vectors)):\n",
        "                if i == m_ind:\n",
        "                    dtrain = xgb.DMatrix(np.asarray([vectors[m_ind][0][q]]), label=np.asarray([vectors[m_ind][1][q]]))\n",
        "                    dpred_inst = model.predict(dtrain)\n",
        "                    grad, hess = cust_obj(dpred_inst, dtrain)\n",
        "                    Gm[m_ind][q] += grad\n",
        "                    Hm[m_ind][q] += hess\n",
        "                else:\n",
        "                    Gm[m_ind][q] += G[i][m_ind][q]\n",
        "                    Hm[m_ind][q] += H[i][m_ind][q]\n",
        "        G[m_ind] = Gm\n",
        "        H[m_ind] = Hm\n",
        "        \n",
        "        m_dtrain = xgb_parties[m_ind]\n",
        "        model.boost(m_dtrain, Gm[m_ind], Hm[m_ind])\n",
        "    \n",
        "    # SimFL: federated data sets\n",
        "    dtest = xgb.DMatrix(np.asarray(holdout_X[:int(len(holdout_X))]), label=np.asarray(holdout_y[:int(len(holdout_y))]))\n",
        "    test_preds = model.predict(dtest)\n",
        "    test_preds = sigmoid(test_preds)\n",
        "    test_preds_labels = np.round(test_preds)\n",
        "\n",
        "    output = shap_output(model, holdout_X, features, test_preds, test_preds_labels)\n",
        "\n",
        "    return output\n"
      ],
      "execution_count": null,
      "outputs": []
    },
    {
      "cell_type": "code",
      "metadata": {
        "id": "3amevYb78jQT",
        "colab_type": "code",
        "colab": {}
      },
      "source": [
        "# simple demo using ALL (no SimFL)\n",
        "def shap_demo_test1(X, y, features, params = {'max_depth': 8}, num_parties = 3, L = None, hash_output = False, verbose = False):\n",
        "\n",
        "    # print('Start\\n')\n",
        "    if verbose: print('XGBoost parameters: ', params, '; Number of Parties: ', num_parties)\n",
        "    \n",
        "    # Randomizing X, y, and separating train/test sets randomly\n",
        "    holdout_X, X, holdout_y, y = train_test_split(X, y, train_size=0.001, random_state=42)\n",
        "  \n",
        "    dtest = xgb.DMatrix(np.asarray(holdout_X[:int(len(holdout_X))]), label=np.asarray(holdout_y[:int(len(holdout_y))]))\n",
        "    dtrainAll = xgb.DMatrix(np.asarray(X[:int(len(X))]), label=np.asarray(y[:int(len(y))]))\n",
        "    paramsAll = params\n",
        "    modelAll = xgb.Booster(params, [dtrainAll])\n",
        "    for i in tqdm(range(20), disable = not verbose):\n",
        "        predictions = modelAll.predict(dtrainAll)\n",
        "        g,h = cust_obj(predictions, dtrainAll)\n",
        "        modelAll.boost(dtrainAll,g,h)\n",
        "    test_preds_all = modelAll.predict(dtest)\n",
        "    test_preds_all = sigmoid(test_preds_all)\n",
        "    test_preds_labels_all = np.round(test_preds_all)\n",
        "\n",
        "    output = shap_output(modelAll, holdout_X, features, test_preds_all, test_preds_labels_all)\n",
        "\n",
        "    return output"
      ],
      "execution_count": null,
      "outputs": []
    },
    {
      "cell_type": "code",
      "metadata": {
        "id": "xhZ443PE6s9m",
        "colab_type": "code",
        "colab": {
          "base_uri": "https://localhost:8080/",
          "height": 204
        },
        "outputId": "9d216dfe-6f2c-4581-bbd2-9446b2f36cc3"
      },
      "source": [
        "test = shap_demo(X,y,features,verbose = True)"
      ],
      "execution_count": null,
      "outputs": [
        {
          "output_type": "stream",
          "text": [
            "XGBoost parameters:  {'max_depth': 8} ; Number of Parties:  3\n"
          ],
          "name": "stdout"
        },
        {
          "output_type": "stream",
          "text": [
            "\r  0%|          | 0/3 [00:00<?, ?it/s]"
          ],
          "name": "stderr"
        },
        {
          "output_type": "stream",
          "text": [
            "\n",
            "Building hash tables:\n",
            "\n",
            "0\n"
          ],
          "name": "stdout"
        },
        {
          "output_type": "stream",
          "text": [
            "\r 33%|███▎      | 1/3 [00:14<00:28, 14.44s/it]"
          ],
          "name": "stderr"
        },
        {
          "output_type": "stream",
          "text": [
            "1\n"
          ],
          "name": "stdout"
        },
        {
          "output_type": "stream",
          "text": [
            "\r 67%|██████▋   | 2/3 [00:28<00:14, 14.44s/it]"
          ],
          "name": "stderr"
        },
        {
          "output_type": "stream",
          "text": [
            "2\n"
          ],
          "name": "stdout"
        },
        {
          "output_type": "stream",
          "text": [
            "100%|██████████| 3/3 [00:43<00:00, 14.51s/it]\n",
            "  0%|          | 0/6 [00:00<?, ?it/s]"
          ],
          "name": "stderr"
        },
        {
          "output_type": "stream",
          "text": [
            "Data points per party:  1110\n"
          ],
          "name": "stdout"
        },
        {
          "output_type": "stream",
          "text": [
            "100%|██████████| 6/6 [00:02<00:00,  2.74it/s]\n",
            "Setting feature_perturbation = \"tree_path_dependent\" because no background data was given.\n"
          ],
          "name": "stderr"
        }
      ]
    },
    {
      "cell_type": "code",
      "metadata": {
        "id": "QDjU3ECl9dOn",
        "colab_type": "code",
        "colab": {
          "base_uri": "https://localhost:8080/",
          "height": 377
        },
        "outputId": "cf0be6d7-317e-46e7-f47f-6a40d4d7dcf2"
      },
      "source": [
        "print(test)"
      ],
      "execution_count": null,
      "outputs": [
        {
          "output_type": "stream",
          "text": [
            "[array(['state', 'account length', 'area code', 'international plan',\n",
            "       'voice mail plan', 'number vmail messages', 'total day minutes',\n",
            "       'total day calls', 'total day charge', 'total eve minutes',\n",
            "       'total eve calls', 'total eve charge', 'total night minutes',\n",
            "       'total night calls', 'total night charge', 'total intl minutes',\n",
            "       'total intl calls', 'total intl charge', 'customer service calls',\n",
            "       'Predicted Label (churn = 1)', 'Pre-rounded prediction',\n",
            "       'Prediction explanation (SHAP)'], dtype='<U152'), array(['37.0', '66.0', '408.0', '0.0', '0.0', '0.0', '87.6', '76.0',\n",
            "       '14.89', '262.0', '111.0', '22.27', '184.6', '125.0', '8.31',\n",
            "       '9.2', '5.0', '2.48', '1.0', '0.0', '0.15468569',\n",
            "       'The top 3 feature(s) contributing to this prediction are: total eve minutes (0.11746291); account length (-0.11171901); total day minutes (-0.108136564)'],\n",
            "      dtype='<U152'), array(['11.0', '169.0', '415.0', '0.0', '0.0', '0.0', '179.2', '111.0',\n",
            "       '30.46', '175.2', '130.0', '14.89', '228.6', '92.0', '10.29',\n",
            "       '9.9', '6.0', '2.67', '2.0', '0.0', '0.16840933',\n",
            "       'The top 3 feature(s) contributing to this prediction are: total day minutes (-0.14314842); total eve calls (0.09731893); account length (0.08050053)'],\n",
            "      dtype='<U152'), array(['40.0', '36.0', '408.0', '0.0', '1.0', '43.0', '29.9', '123.0',\n",
            "       '5.08', '129.1', '117.0', '10.97', '325.9', '105.0', '14.67',\n",
            "       '8.6', '6.0', '2.32', '2.0', '0.0', '0.2455286',\n",
            "       'The top 3 feature(s) contributing to this prediction are: number vmail messages (0.44426876); total day minutes (0.1275775); area code (0.11405499)'],\n",
            "      dtype='<U152')]\n"
          ],
          "name": "stdout"
        }
      ]
    },
    {
      "cell_type": "code",
      "metadata": {
        "id": "9tfHrVY6hqCr",
        "colab_type": "code",
        "colab": {}
      },
      "source": [
        "# name of csv file  \n",
        "filename = \"SHAPresults.csv\"\n",
        "    \n",
        "# writing to csv file  \n",
        "with open(filename, 'w') as csvfile:  \n",
        "    # creating a csv writer object  \n",
        "    csvwriter = csv.writer(csvfile) \n",
        "        \n",
        "    # writing the data rows  \n",
        "    csvwriter.writerows(test) "
      ],
      "execution_count": null,
      "outputs": []
    }
  ]
}