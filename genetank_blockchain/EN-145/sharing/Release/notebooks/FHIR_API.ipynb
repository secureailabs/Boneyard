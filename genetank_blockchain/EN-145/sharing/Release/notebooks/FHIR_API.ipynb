{
 "cells": [
  {
   "cell_type": "code",
   "execution_count": 1,
   "metadata": {},
   "outputs": [
    {
     "name": "stdout",
     "output_type": "stream",
     "text": [
      "\n",
      "OUTPUT:\n",
      "\n"
     ]
    }
   ],
   "source": [
    "import http_send as http\n",
    "import json"
   ]
  },
  {
   "cell_type": "code",
   "execution_count": 2,
   "metadata": {},
   "outputs": [
    {
     "name": "stdout",
     "output_type": "stream",
     "text": [
      "\n",
      "OUTPUT:\n",
      "('test1 name: ', [{u'text': u'Sam Fhirman', u'use': u'official', u'prefix': [u'Mr'], u'given': [u'SAIL2'], u'family': u'Fhirman'}])\n",
      "[\n",
      "  {\n",
      "    \"key\": \"Content-Length\",\n",
      "    \"value\": \"1165\"\n",
      "  },\n",
      "  {\n",
      "    \"key\": \"Content-Type\",\n",
      "    \"value\": \"application/fhir+json; charset=utf-8\"\n",
      "  },\n",
      "  {\n",
      "    \"key\": \"Date\",\n",
      "    \"value\": \"Sat, 25 Jan 2020 18:20:10 GMT\"\n",
      "  },\n",
      "  {\n",
      "    \"key\": \"ETag\",\n",
      "    \"value\": \"W/\\\"18\\\"\"\n",
      "  },\n",
      "  {\n",
      "    \"key\": \"Last-Modified\",\n",
      "    \"value\": \"Thu, 23 Jan 2020 14:50:26 GMT\"\n",
      "  },\n",
      "  {\n",
      "    \"key\": \"Location\",\n",
      "    \"value\": \"https://stu3.test.pyrohealth.net/fhir/Patient/7d13c1e8-b603-4ec6-98cc-b4af32fdd5d4\"\n",
      "  },\n",
      "  {\n",
      "    \"key\": \"Server\",\n",
      "    \"value\": \"Microsoft-IIS/8.5\"\n",
      "  },\n",
      "  {\n",
      "    \"key\": \"X-Powered-By\",\n",
      "    \"value\": \"ASP.NET\"\n",
      "  }\n",
      "]\n",
      "\n"
     ]
    }
   ],
   "source": [
    "# test1: simple get:\n",
    "url = \"https://stu3.test.pyrohealth.net/fhir/Patient/7d13c1e8-b603-4ec6-98cc-b4af32fdd5d4\"\n",
    "headers = {\"Accept\":\"application/fhir+json\"}\n",
    "\n",
    "resp = http.get(url, headers=headers)\n",
    "content = resp[\"content\"]\n",
    "data = json.loads(content)\n",
    "print(\"test1 name: \", data[\"name\"])\n",
    "#rsp = json.loads(resp)\n",
    "#print(json.dumps(resp, sort_keys=True, indent=2, separators=(',', ': ')))\n",
    "print(json.dumps(resp[\"headers\"], sort_keys=True, indent=2, separators=(',', ': ')))\n"
   ]
  },
  {
   "cell_type": "code",
   "execution_count": 3,
   "metadata": {},
   "outputs": [
    {
     "name": "stdout",
     "output_type": "stream",
     "text": [
      "\n",
      "OUTPUT:\n",
      "('test2 name: ', [{u'text': u'Sam Fhirman', u'use': u'official', u'prefix': [u'Mr'], u'given': [u'SAIL2'], u'family': u'Fhirman'}])\n",
      "\n"
     ]
    }
   ],
   "source": [
    "# test2: update data \n",
    "url = \"https://stu3.test.pyrohealth.net/fhir/Patient/7d13c1e8-b603-4ec6-98cc-b4af32fdd5d4\"\n",
    "headers = {\"Accept\":\"application/fhir+json\",\n",
    "           \"Content-Type\":\"application/fhir+json\"}\n",
    "data[\"name\"][0][\"given\"] = \"SAIL2\"\n",
    "resp = http.put(url, headers=headers, data=json.dumps(data))\n",
    "content = json.loads(resp[\"content\"])\n",
    "print(\"test2 name: \", content[\"name\"])"
   ]
  },
  {
   "cell_type": "code",
   "execution_count": 4,
   "metadata": {},
   "outputs": [
    {
     "name": "stdout",
     "output_type": "stream",
     "text": [
      "\n",
      "OUTPUT:\n",
      "('test3 name: ', [{u'text': u'Sam Fhirman', u'use': u'official', u'prefix': [u'Mr'], u'given': [u'Sam'], u'family': u'Fhirman'}])\n",
      "\n"
     ]
    }
   ],
   "source": [
    "#test3: create a new record\n",
    "url = \"https://stu3.test.pyrohealth.net/fhir/Patient/\"\n",
    "headers = {\"Accept\":\"application/fhir+json\",\n",
    "           \"Content-Type\":\"application/fhir+json\"}\n",
    "content[\"name\"][0][\"given\"] = \"Sam\"\n",
    "content[\"id\"] = \"avoid error\"\n",
    "del content[\"id\"]\n",
    "resp = http.post(url, headers=headers, data=json.dumps(content))\n",
    "data = json.loads(resp[\"content\"])\n",
    "print(\"test3 name: \", data[\"name\"])"
   ]
  },
  {
   "cell_type": "code",
   "execution_count": 5,
   "metadata": {},
   "outputs": [
    {
     "name": "stdout",
     "output_type": "stream",
     "text": [
      "\n",
      "OUTPUT:\n",
      "('Response: ', {u'content': u'', u'content_length': 0, u'status': 204, u'headers': [{u'value': u'Sat, 25 Jan 2020 18:20:29 GMT', u'key': u'Date'}, {u'value': u'W/\"2\"', u'key': u'ETag'}, {u'value': u'Microsoft-IIS/8.5', u'key': u'Server'}, {u'value': u'ASP.NET', u'key': u'X-Powered-By'}]})\n",
      "\n"
     ]
    }
   ],
   "source": [
    "#test4: delete a record\n",
    "url = \"https://stu3.test.pyrohealth.net/fhir/Patient/\"+data[\"id\"]\n",
    "headers = {\"Accept\":\"application/fhir+json\"}\n",
    "resp = http.delete(url, headers=headers)\n",
    "print(\"Response: \", resp)           "
   ]
  },
  {
   "cell_type": "code",
   "execution_count": 6,
   "metadata": {},
   "outputs": [
    {
     "name": "stdout",
     "output_type": "stream",
     "text": [
      "\n",
      "OUTPUT:\n",
      "('test5 name: ', [{u'text': u'Sam Fhirman', u'use': u'official', u'prefix': [u'Mr'], u'given': [u'Sam'], u'family': u'Fhirman'}])\n",
      "\n"
     ]
    }
   ],
   "source": [
    "#test5: query record history\n",
    "url = url + \"/_history/1\"\n",
    "headers = {\"Accept\":\"application/fhir+json\"}\n",
    "resp = http.get(url, headers=headers)\n",
    "data = json.loads(resp[\"content\"])\n",
    "print(\"test5 name: \", data[\"name\"])"
   ]
  },
  {
   "cell_type": "code",
   "execution_count": 7,
   "metadata": {},
   "outputs": [
    {
     "name": "stdout",
     "output_type": "stream",
     "text": [
      "\n",
      "OUTPUT:\n",
      "{\n",
      "  \"entry\": [\n",
      "    {\n",
      "      \"fullUrl\": \"https://stu3.test.pyrohealth.net:443/fhir/Patient/e0027e9d-0fa5-4be7-a6a0-f9985cf27bfc\",\n",
      "      \"resource\": {\n",
      "        \"address\": [\n",
      "          {\n",
      "            \"city\": \"Brisbane\",\n",
      "            \"country\": \"AUS\",\n",
      "            \"line\": [\n",
      "              \"400 George Street\"\n",
      "            ],\n",
      "            \"postalCode\": \"4000\",\n",
      "            \"state\": \"QLD\",\n",
      "            \"use\": \"work\"\n",
      "          }\n",
      "        ],\n",
      "        \"birthDate\": \"1973-09-30\",\n",
      "        \"gender\": \"male\",\n",
      "        \"id\": \"e0027e9d-0fa5-4be7-a6a0-f9985cf27bfc\",\n",
      "        \"identifier\": [\n",
      "          {\n",
      "            \"system\": \"http://ns.electronichealth.net.au/id/hi/ihi/1.0\",\n",
      "            \"type\": {\n",
      "              \"coding\": [\n",
      "                {\n",
      "                  \"code\": \"NI\",\n",
      "                  \"display\": \"National unique individual identifier\",\n",
      "                  \"system\": \"http://hl7.org/fhir/v2/0203\"\n",
      "                }\n",
      "              ],\n",
      "              \"text\": \"IHI\"\n",
      "            },\n",
      "            \"value\": \"8003608166690503\"\n",
      "          },\n",
      "          {\n",
      "            \"assigner\": {\n",
      "              \"display\": \"Acme Healthcare\"\n",
      "            },\n",
      "            \"period\": {\n",
      "              \"start\": \"2001-05-06\"\n",
      "            },\n",
      "            \"system\": \"urn:oid:1.2.36.146.595.217.0.1\",\n",
      "            \"type\": {\n",
      "              \"coding\": [\n",
      "                {\n",
      "                  \"code\": \"MR\",\n",
      "                  \"system\": \"http://hl7.org/fhir/v2/0203\"\n",
      "                }\n",
      "              ]\n",
      "            },\n",
      "            \"use\": \"usual\",\n",
      "            \"value\": \"6666\"\n",
      "          }\n",
      "        ],\n",
      "        \"maritalStatus\": {\n",
      "          \"coding\": [\n",
      "            {\n",
      "              \"code\": \"M\",\n",
      "              \"display\": \"Married\",\n",
      "              \"system\": \"http://hl7.org/fhir/v3/MaritalStatus\"\n",
      "            }\n",
      "          ]\n",
      "        },\n",
      "        \"meta\": {\n",
      "          \"lastUpdated\": \"2018-11-13T05:34:09.221+00:00\",\n",
      "          \"vers"
     ]
    }
   ],
   "source": [
    "#test6: multiple records querying\n",
    "url = \"https://stu3.test.pyrohealth.net/fhir/Patient?family=fhirman\"\n",
    "headers = {\"Accept\":\"application/fhir+json\"}\n",
    "resp = http.get(url, headers=headers)\n",
    "data = json.loads(resp[\"content\"])\n",
    "print(json.dumps(data, sort_keys=True, indent=2, separators=(',', ': ')))"
   ]
  },
  {
   "cell_type": "code",
   "execution_count": null,
   "metadata": {},
   "outputs": [],
   "source": []
  }
 ],
 "metadata": {
  "kernelspec": {
   "display_name": "Enclave",
   "language": "Python",
   "name": "enclave"
  },
  "language_info": {
   "codemirror_mode": "shell",
   "file_extension": ".sh",
   "mimetype": "text/x-sh",
   "name": "Python"
  }
 },
 "nbformat": 4,
 "nbformat_minor": 4
}
