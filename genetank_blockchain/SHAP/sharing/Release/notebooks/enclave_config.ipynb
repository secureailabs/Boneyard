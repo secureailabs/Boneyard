{
 "cells": [
  {
   "cell_type": "markdown",
   "metadata": {},
   "source": [
    "# Configuration command Guides\n",
    "The commands are start with #% at the first line of a code cell There are below commands: <> means required parameters, [] means optional parameters.\n",
    "\n",
    "# Configure the current hub enclave or sub enclave. \n",
    "If there is a SubEnclave parameter then all the rest of the Jupyter operations will talk to the sub enclave, otherwise the Jupyter will operate the HubEnclave.\n",
    "\n",
    "```\n",
    "#%config {\"Enclave\": <\"enclave_name\">, [\"SubEnclave\": <\"subEnclave_name\">]}\n",
    "```\n",
    "# Show current enclave configuration\n",
    "```\n",
    "#%status\n",
    "```\n",
    "# Show current directory content\n",
    "```\n",
    "#%ls [path]\n",
    "```\n",
    "# Change current directory\n",
    "```\n",
    "#%cd <path>\n",
    "```\n",
    "# Delete a file or a directory\n",
    "```\n",
    "#%rm <path>\n",
    "```\n",
    "# Upload a piece of code start from the second line of current cell\n",
    "```\n",
    "#%upload\n",
    "<codes to be uploaded>\n",
    "```"
   ]
  },
  {
   "cell_type": "code",
   "execution_count": 3,
   "metadata": {},
   "outputs": [
    {
     "name": "stdout",
     "output_type": "stream",
     "text": [
      "User: shifa\n",
      "Hub Enclave: My Hub\n",
      "Sub Enclave :My Sub\n"
     ]
    }
   ],
   "source": [
    "#%config {\"Enclave\": \"My Hub\", \"SubEnclave\": \"My Sub\"}"
   ]
  },
  {
   "cell_type": "code",
   "execution_count": 31,
   "metadata": {},
   "outputs": [
    {
     "name": "stdout",
     "output_type": "stream",
     "text": [
      "User: shifa\n",
      "Hub Enclave: My Hub\n",
      "Sub Enclave :My Sub\n"
     ]
    }
   ],
   "source": [
    "#%status"
   ]
  },
  {
   "cell_type": "code",
   "execution_count": 8,
   "metadata": {},
   "outputs": [
    {
     "name": "stdout",
     "output_type": "stream",
     "text": [
      "/data/anonymized:\n"
     ]
    }
   ],
   "source": [
    "#%ls /data/anonymized"
   ]
  },
  {
   "cell_type": "code",
   "execution_count": 10,
   "metadata": {},
   "outputs": [
    {
     "name": "stdout",
     "output_type": "stream",
     "text": [
      "/model"
     ]
    }
   ],
   "source": [
    "#%cd /model"
   ]
  },
  {
   "cell_type": "code",
   "execution_count": 11,
   "metadata": {},
   "outputs": [
    {
     "name": "stdout",
     "output_type": "stream",
     "text": [
      "/model:\n",
      "F            14 try.py\n"
     ]
    }
   ],
   "source": [
    "#%ls"
   ]
  },
  {
   "cell_type": "code",
   "execution_count": 5,
   "metadata": {},
   "outputs": [
    {
     "name": "stdout",
     "output_type": "stream",
     "text": [
      "\n",
      "OUTPUT:\n",
      "Hello enclave\n",
      "\n"
     ]
    }
   ],
   "source": [
    "print(\"Hello enclave\")"
   ]
  },
  {
   "cell_type": "code",
   "execution_count": 9,
   "metadata": {},
   "outputs": [
    {
     "name": "stdout",
     "output_type": "stream",
     "text": [
      "File /model/try.py saved."
     ]
    }
   ],
   "source": [
    "#%upload /model/try.py\n",
    "print(\"Hello\")"
   ]
  },
  {
   "cell_type": "code",
   "execution_count": null,
   "metadata": {},
   "outputs": [],
   "source": []
  }
 ],
 "metadata": {
  "kernelspec": {
   "display_name": "Enclave",
   "language": "Python",
   "name": "enclave"
  },
  "language_info": {
   "codemirror_mode": "shell",
   "file_extension": ".sh",
   "mimetype": "text/x-sh",
   "name": "Python"
  }
 },
 "nbformat": 4,
 "nbformat_minor": 4
}
