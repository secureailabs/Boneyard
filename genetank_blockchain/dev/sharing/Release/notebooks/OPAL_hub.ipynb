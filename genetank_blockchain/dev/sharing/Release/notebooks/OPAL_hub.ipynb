{
 "cells": [
  {
   "cell_type": "code",
   "execution_count": 1,
   "metadata": {},
   "outputs": [
    {
     "name": "stdout",
     "output_type": "stream",
     "text": [
      "User: shifa\n",
      "Hub Enclave: My Hub\n",
      "Sub Enclave :My Sub\n"
     ]
    }
   ],
   "source": [
    "#%config {\"Enclave\": \"My Hub\", \"SubEnclave\": \"My Sub\"}"
   ]
  },
  {
   "cell_type": "code",
   "execution_count": 2,
   "metadata": {},
   "outputs": [
    {
     "name": "stdout",
     "output_type": "stream",
     "text": [
      "File /model/my_algo.py saved."
     ]
    }
   ],
   "source": [
    "#%upload /model/my_algo.py\n",
    "import federated as fd\n",
    "f=open(\"/data/data.csv\",\"r\")\n",
    "data = f.readline()\n",
    "print(data)\n",
    "data = f.readline()\n",
    "print(data)\n",
    "f.close()\n",
    "avg = 19\n",
    "cnt = 8\n",
    "res = [avg, cnt]\n",
    "fd.submitData(res)"
   ]
  },
  {
   "cell_type": "code",
   "execution_count": 6,
   "metadata": {},
   "outputs": [
    {
     "name": "stdout",
     "output_type": "stream",
     "text": [
      "User: shifa\n",
      "Hub Enclave: My Hub\n",
      "Sub Enclave :\n"
     ]
    }
   ],
   "source": [
    "#%config  {\"Enclave\": \"My Hub\", \"SubEnclave\": \"\"}"
   ]
  },
  {
   "cell_type": "code",
   "execution_count": 7,
   "metadata": {},
   "outputs": [
    {
     "name": "stdout",
     "output_type": "stream",
     "text": [
      "User: shifa\n",
      "Hub Enclave: My Hub\n",
      "Sub Enclave :\n"
     ]
    }
   ],
   "source": [
    "#%status"
   ]
  },
  {
   "cell_type": "code",
   "execution_count": 8,
   "metadata": {},
   "outputs": [
    {
     "name": "stdout",
     "output_type": "stream",
     "text": [
      "\n",
      "OUTPUT:\n",
      "\n"
     ]
    }
   ],
   "source": [
    "import federated as fd"
   ]
  },
  {
   "cell_type": "code",
   "execution_count": 9,
   "metadata": {},
   "outputs": [
    {
     "name": "stdout",
     "output_type": "stream",
     "text": [
      "\n",
      "OUTPUT:\n",
      "\n"
     ]
    }
   ],
   "source": [
    "import json"
   ]
  },
  {
   "cell_type": "code",
   "execution_count": 83,
   "metadata": {},
   "outputs": [
    {
     "name": "stdout",
     "output_type": "stream",
     "text": [
      "\n",
      "OUTPUT:\n",
      "\n",
      "('Iteration: ', 0)\n",
      "['{\"session_id\":1, \"federatedData\":\"KGxwMQpJMTkKYUk4CmEu\",\"dataSize\":20,\"result\":\"\\\\nOUTPUT:\\\\nage, other\\\\n\\\\n10,abc\\\\n\\\\n\",\"msgType\":913}']\n",
      "\n",
      "('Total number of cases', 0)\n",
      "('Average radius_mean', 0)\n",
      "\n"
     ]
    }
   ],
   "source": [
    "avg=0;\n",
    "size=0;\n",
    "for iteration in range(1):\n",
    "    cnt = 0\n",
    "    print(\"\") \n",
    "    print(\"Iteration: \", iteration)\n",
    "    fd.runSubOPAL(\"test_sub\", \"/model/OPAL/open_algo.py\", \"my_algo.py\", \"hospital.csv\")\n",
    "    fd.startCycle(\"\")\n",
    "    while cnt<1:\n",
    "        result=fd.retrieveData()\n",
    "        cnt = cnt + 1\n",
    "        print(result)\n",
    "        #if result is not None:\n",
    "          #size = size + result[2]\n",
    "          #avg = avg + result[2]*result[1]\n",
    "#if (size>0):\n",
    "#  avg = avg/size\n",
    "print(\"\")  \n",
    "print(\"Total number of cases\", size)\n",
    "print(\"Average radius_mean\", avg)"
   ]
  },
  {
   "cell_type": "code",
   "execution_count": null,
   "metadata": {},
   "outputs": [],
   "source": []
  },
  {
   "cell_type": "code",
   "execution_count": null,
   "metadata": {},
   "outputs": [],
   "source": []
  }
 ],
 "metadata": {
  "kernelspec": {
   "display_name": "Enclave",
   "language": "Python",
   "name": "enclave"
  },
  "language_info": {
   "codemirror_mode": "shell",
   "file_extension": ".sh",
   "mimetype": "text/x-sh",
   "name": "Python"
  }
 },
 "nbformat": 4,
 "nbformat_minor": 4
}
