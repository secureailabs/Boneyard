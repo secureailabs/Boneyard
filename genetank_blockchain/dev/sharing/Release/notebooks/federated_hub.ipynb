{
 "cells": [
  {
   "cell_type": "code",
   "execution_count": 1,
   "metadata": {},
   "outputs": [
    {
     "name": "stdout",
     "output_type": "stream",
     "text": [
      "\n",
      "OUTPUT:\n",
      "\n"
     ]
    }
   ],
   "source": [
    "import numpy as np\n",
    "import pandas as pd\n",
    "data_path = \"/data/sharedin/local_data.csv\""
   ]
  },
  {
   "cell_type": "code",
   "execution_count": 2,
   "metadata": {},
   "outputs": [
    {
     "name": "stdout",
     "output_type": "stream",
     "text": [
      "\n",
      "OUTPUT:\n",
      "\n"
     ]
    }
   ],
   "source": [
    "import federated as fd"
   ]
  },
  {
   "cell_type": "code",
   "execution_count": 3,
   "metadata": {},
   "outputs": [
    {
     "name": "stdout",
     "output_type": "stream",
     "text": [
      "\n",
      "OUTPUT:\n",
      "\n",
      "('Iteration: ', 0)\n",
      "['Hospital 2', 13.61025641025641, 195]\n",
      "['Hospital 1', 13.72192513368984, 187]\n",
      "['Local Hospital', 13.582887700534759, 187]\n",
      "\n",
      "('Iteration: ', 1)\n",
      "['Hospital 2', 13.61025641025641, 195]\n",
      "['Hospital 1', 13.72192513368984, 187]\n",
      "['Local Hospital', 13.582887700534759, 187]\n",
      "\n",
      "('Total number of cases', 1138)\n",
      "('Average radius_mean', 13.637961335676625)\n",
      "\n"
     ]
    }
   ],
   "source": [
    "avg=0;\n",
    "size=0;\n",
    "for iteration in range(2):\n",
    "  cnt = 0;\n",
    "  print(\"\") \n",
    "  print(\"Iteration: \", iteration);\n",
    "  fd.startCycle(\"fed_breast_cancer\")\n",
    "  while cnt<3:\n",
    "    result=fd.retrieveData()\n",
    "    cnt = cnt + 1\n",
    "    print(result)\n",
    "    if result is not None:\n",
    "      size = size + result[2]\n",
    "      avg = avg + result[2]*result[1]\n",
    "if (size>0):\n",
    "  avg = avg/size\n",
    "print(\"\")  \n",
    "print(\"Total number of cases\", size)\n",
    "print(\"Average radius_mean\", avg)"
   ]
  },
  {
   "cell_type": "code",
   "execution_count": null,
   "metadata": {},
   "outputs": [],
   "source": []
  }
 ],
 "metadata": {
  "kernelspec": {
   "display_name": "Enclave",
   "language": "Python",
   "name": "enclave"
  },
  "language_info": {
   "codemirror_mode": "shell",
   "file_extension": ".sh",
   "mimetype": "text/x-sh",
   "name": "Python"
  }
 },
 "nbformat": 4,
 "nbformat_minor": 4
}
