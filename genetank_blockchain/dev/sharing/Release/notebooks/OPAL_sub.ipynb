{
 "cells": [
  {
   "cell_type": "code",
   "execution_count": 1,
   "metadata": {},
   "outputs": [
    {
     "name": "stdout",
     "output_type": "stream",
     "text": [
      "Bad key(s).User: aditya\n",
      "Hub Enclave: My Sub\n",
      "Sub Enclave :\n"
     ]
    }
   ],
   "source": [
    "#%config {\"Enclave\":\"My Sub\"}"
   ]
  },
  {
   "cell_type": "code",
   "execution_count": 2,
   "metadata": {},
   "outputs": [
    {
     "name": "stdout",
     "output_type": "stream",
     "text": [
      "File /model/OPAL/open_algo.py saved."
     ]
    }
   ],
   "source": [
    "#%upload /model/OPAL/open_algo.py\n",
    "import federated as fd\n",
    "import json\n",
    "f=open(\"/data/training/123/data.csv\", \"w\")\n",
    "f.write(\"age, other\\n\")\n",
    "f.write(\"10,abc\")\n",
    "f.close()\n",
    "jsonresult = fd.runAlgoInSandbox(\"/model/my_algo.py\", \"123\")\n",
    "print(\"OPAL\", jsonresult)\n",
    "resJson = json.loads(jsonresult)\n",
    "data = resJson[\"federatedData\"]\n",
    "size = resJson[\"dataSize\"]\n",
    "print(\"data\", data)\n",
    "print(\"size\", size)\n",
    "res = [jsonresult]\n",
    "fd.submitData(res)\n",
    "print(\"OPAL Finished\")"
   ]
  },
  {
   "cell_type": "code",
   "execution_count": null,
   "metadata": {},
   "outputs": [],
   "source": []
  }
 ],
 "metadata": {
  "kernelspec": {
   "display_name": "Enclave",
   "language": "Python",
   "name": "enclave"
  },
  "language_info": {
   "codemirror_mode": "shell",
   "file_extension": ".sh",
   "mimetype": "text/x-sh",
   "name": "Python"
  }
 },
 "nbformat": 4,
 "nbformat_minor": 4
}
