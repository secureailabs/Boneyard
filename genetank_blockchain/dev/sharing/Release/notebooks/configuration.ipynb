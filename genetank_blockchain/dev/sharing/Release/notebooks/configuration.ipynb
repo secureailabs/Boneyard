{
 "cells": [
  {
   "cell_type": "markdown",
   "metadata": {},
   "source": [
    "# Configuration\n",
    "Configure which enclave that user is working on"
   ]
  },
  {
   "cell_type": "code",
   "execution_count": 1,
   "metadata": {},
   "outputs": [
    {
     "name": "stdout",
     "output_type": "stream",
     "text": [
      "User: shifa\n",
      "Hub Enclave: test_hub\n",
      "Sub Enclave :test_sub\n"
     ]
    }
   ],
   "source": [
    "#%config  {\"Enclave\": \"test_hub\", \"SubEnclave\": \"test_sub\"}"
   ]
  },
  {
   "cell_type": "markdown",
   "metadata": {},
   "source": [
    "# Show status "
   ]
  },
  {
   "cell_type": "code",
   "execution_count": 28,
   "metadata": {},
   "outputs": [
    {
     "name": "stdout",
     "output_type": "stream",
     "text": [
      "User: shifa\n",
      "Hub Enclave: test_hub\n",
      "Sub Enclave :test_sub\n"
     ]
    }
   ],
   "source": [
    "#%status"
   ]
  },
  {
   "cell_type": "markdown",
   "metadata": {},
   "source": [
    "Show current enclave and available enclaves (the hub enclaves and the sub enclaves of current hub)"
   ]
  },
  {
   "cell_type": "markdown",
   "metadata": {},
   "source": [
    "# Directory operations"
   ]
  },
  {
   "cell_type": "markdown",
   "metadata": {},
   "source": [
    "#%ls \\<folder_name\\>"
   ]
  },
  {
   "cell_type": "code",
   "execution_count": 27,
   "metadata": {},
   "outputs": [
    {
     "name": "stdout",
     "output_type": "stream",
     "text": [
      "/:\n",
      "D             0 data\n",
      "D             0 lib\n",
      "D             0 model\n"
     ]
    }
   ],
   "source": [
    "#%ls /"
   ]
  },
  {
   "cell_type": "markdown",
   "metadata": {},
   "source": [
    "#%cd \\<folder_name\\>"
   ]
  },
  {
   "cell_type": "code",
   "execution_count": 8,
   "metadata": {},
   "outputs": [
    {
     "name": "stdout",
     "output_type": "stream",
     "text": [
      "/model/OPAL"
     ]
    }
   ],
   "source": [
    "#%cd OPAL"
   ]
  },
  {
   "cell_type": "code",
   "execution_count": 6,
   "metadata": {},
   "outputs": [
    {
     "name": "stdout",
     "output_type": "stream",
     "text": [
      "/model"
     ]
    }
   ],
   "source": [
    "#%cd /model"
   ]
  },
  {
   "cell_type": "code",
   "execution_count": 18,
   "metadata": {},
   "outputs": [
    {
     "name": "stdout",
     "output_type": "stream",
     "text": [
      "/data/training/123"
     ]
    }
   ],
   "source": [
    "#%cd /data/training/123"
   ]
  },
  {
   "cell_type": "markdown",
   "metadata": {},
   "source": [
    "#%rm \\<file_or_folder_name\\>"
   ]
  },
  {
   "cell_type": "markdown",
   "metadata": {},
   "source": [
    "# Upload code"
   ]
  },
  {
   "cell_type": "markdown",
   "metadata": {},
   "source": [
    "#%upload \\<path_and_model_name\\> <br/>\n",
    "\\<Python codes to be upload\\>"
   ]
  },
  {
   "cell_type": "code",
   "execution_count": 24,
   "metadata": {},
   "outputs": [
    {
     "name": "stdout",
     "output_type": "stream",
     "text": [
      "File /model/my_algo.py saved."
     ]
    }
   ],
   "source": [
    "#%upload /model/my_algo.py\n",
    "import federated as fd\n",
    "f=open(\"/data/data.csv\",\"r\")\n",
    "data = f.readline()\n",
    "print(data)\n",
    "data = f.readline()\n",
    "print(data)\n",
    "f.close()\n",
    "avg = 19\n",
    "cnt = 8\n",
    "res = [avg, cnt]\n",
    "fd.submitData(res)"
   ]
  },
  {
   "cell_type": "code",
   "execution_count": null,
   "metadata": {},
   "outputs": [],
   "source": []
  }
 ],
 "metadata": {
  "kernelspec": {
   "display_name": "Enclave",
   "language": "Python",
   "name": "enclave"
  },
  "language_info": {
   "codemirror_mode": "shell",
   "file_extension": ".sh",
   "mimetype": "text/x-sh",
   "name": "Python"
  }
 },
 "nbformat": 4,
 "nbformat_minor": 4
}
